{
  "cells": [
    {
      "cell_type": "code",
      "execution_count": 1,
      "metadata": {
        "colab": {
          "base_uri": "https://localhost:8080/"
        },
        "id": "fG9wCAWQXgYx",
        "outputId": "936ecc5c-eb78-432a-cf4b-c85e96174185"
      },
      "outputs": [
        {
          "name": "stdout",
          "output_type": "stream",
          "text": [
            "Mounted at /content/drive\n"
          ]
        }
      ],
      "source": [
        "from google.colab import drive\n",
        "drive.mount('/content/drive')\n"
      ]
    },
    {
      "cell_type": "markdown",
      "metadata": {
        "id": "Bp8H05cnZOvz"
      },
      "source": [
        "EDA\n"
      ]
    },
    {
      "cell_type": "code",
      "execution_count": 2,
      "metadata": {
        "id": "D4fBg6oock10"
      },
      "outputs": [],
      "source": [
        "\n",
        "import pandas as pd\n",
        "import numpy as np\n",
        "import plotly.express as px\n",
        "import seaborn as sns\n",
        "import matplotlib.pyplot as plt\n",
        "from sklearn.model_selection import train_test_split\n",
        "from sklearn.preprocessing import StandardScaler\n",
        "from sklearn.ensemble import RandomForestClassifier\n",
        "from sklearn.linear_model import LogisticRegression\n",
        "from sklearn.metrics import accuracy_score, classification_report, confusion_matrix\n",
        "from sklearn.svm import SVC\n",
        "from xgboost import XGBClassifier\n",
        "import warnings\n",
        "warnings.filterwarnings(\"ignore\")\n",
        "%matplotlib inline"
      ]
    },
    {
      "cell_type": "code",
      "execution_count": 3,
      "metadata": {
        "id": "_709ifY7gScK"
      },
      "outputs": [],
      "source": [
        "# Define a function to calculate loan approval based on realistic rules\n",
        "def approve_loan(row):\n",
        "    if row['Credit_Score'] < 600:\n",
        "        return 'No'\n",
        "    if row['Credit_Score'] > 650 and row['DTI_Ratio'] < 36:\n",
        "        return 'Yes'\n",
        "    if row['DTI_Ratio'] > 45:\n",
        "        return 'No'\n",
        "    if row['Income'] < row['Loan_Amount'] * 2:\n",
        "        return 'No'\n",
        "    if row['Collateral'] == 'None' and row['Income'] < row['Loan_Amount'] * 3:\n",
        "        return 'No'\n",
        "    if row['Down_Payment'] == 0 and row['Loan_Amount'] > 20000:\n",
        "        return 'No'\n",
        "    if row['Employment_Years'] < 1:\n",
        "        return 'No'\n",
        "    return 'Yes'\n"
      ]
    },
    {
      "cell_type": "code",
      "execution_count": 4,
      "metadata": {
        "id": "_ipn5AdddjCd"
      },
      "outputs": [],
      "source": [
        "import numpy as np\n",
        "\n",
        "# Generate 150 instances for the dataset\n",
        "np.random.seed(42)  # For reproducibility\n",
        "\n",
        "# Randomly generate data for 300 clients based on realistic ranges\n",
        "data = {\n",
        "    'Client_ID': np.arange(1, 301),\n",
        "    'Credit_Score': np.random.randint(500, 800, 300),  # Credit scores between 500 and 800\n",
        "    'Income': np.random.randint(30000, 120000, 300),  # Income between 30k and 120k\n",
        "    'DTI_Ratio': np.random.uniform(15, 50, 300).round(2),  # DTI ratios between 15% and 50%\n",
        "    'Collateral': np.random.choice(['House', 'Car', 'None'], 300),  # Randomly choose collateral\n",
        "    'Loan_Amount': np.random.randint(5000, 30000, 300),  # Loan amounts between 5k and 30k\n",
        "    'Loan_Purpose': np.random.choice(['Car', 'Home Improvement', 'Medical', 'Business', 'Vacation'], 300),  # Loan purposes\n",
        "    'Employment_Years': np.random.randint(1, 15, 300),  # Years of employment between 1 and 15\n",
        "    'Loan_Term_Years': np.random.randint(2, 10, 300),  # Loan term between 2 and 10 years\n",
        "    'Down_Payment': np.random.randint(0, 10000, 300),  # Down payment between 0 and 10k\n",
        "    'Existing_Liabilities': np.random.choice(['Credit Card', 'Mortgage', 'Personal Loan', 'None'], 300),  # Existing liabilities\n",
        "    'Citizenship': np.random.choice(['Yes', 'No'], 300, p=[0.95, 0.05]),  # 95% Yes, 5% No for citizenship\n",
        "    'Loan_Approved': np.random.choice(['Yes', 'No'], 300, p=[0.7, 0.3])  # 70% approved, 30% rejected\n",
        "}\n",
        "\n",
        "# Convert to DataFrame\n",
        "\n",
        "\n",
        "df_300 = pd.DataFrame(data)\n"
      ]
    },
    {
      "cell_type": "code",
      "execution_count": 5,
      "metadata": {
        "id": "0Nd82H36gfLI"
      },
      "outputs": [],
      "source": [
        "df_300['Loan_Approved'] = df_300.apply(approve_loan, axis=1)"
      ]
    },
    {
      "cell_type": "code",
      "execution_count": 6,
      "metadata": {
        "id": "GNBKIkkbeYMu"
      },
      "outputs": [],
      "source": [
        "# drop id column because it is irrelevant\n",
        "\n",
        "df = df_300.drop('Client_ID', axis=1)"
      ]
    },
    {
      "cell_type": "code",
      "execution_count": 7,
      "metadata": {
        "colab": {
          "base_uri": "https://localhost:8080/",
          "height": 261
        },
        "id": "SDlkAWaFgkjb",
        "outputId": "fb794dcf-dadd-4855-8f2d-6552d14593ba"
      },
      "outputs": [
        {
          "data": {
            "application/vnd.google.colaboratory.intrinsic+json": {
              "summary": "{\n  \"name\": \"df\",\n  \"rows\": 300,\n  \"fields\": [\n    {\n      \"column\": \"Credit_Score\",\n      \"properties\": {\n        \"dtype\": \"number\",\n        \"std\": 83,\n        \"min\": 501,\n        \"max\": 797,\n        \"num_unique_values\": 181,\n        \"samples\": [\n          752,\n          580,\n          574\n        ],\n        \"semantic_type\": \"\",\n        \"description\": \"\"\n      }\n    },\n    {\n      \"column\": \"Income\",\n      \"properties\": {\n        \"dtype\": \"number\",\n        \"std\": 26931,\n        \"min\": 30412,\n        \"max\": 119930,\n        \"num_unique_values\": 299,\n        \"samples\": [\n          60355,\n          67080,\n          30412\n        ],\n        \"semantic_type\": \"\",\n        \"description\": \"\"\n      }\n    },\n    {\n      \"column\": \"DTI_Ratio\",\n      \"properties\": {\n        \"dtype\": \"number\",\n        \"std\": 9.930301212086409,\n        \"min\": 15.09,\n        \"max\": 49.92,\n        \"num_unique_values\": 282,\n        \"samples\": [\n          37.28,\n          34.42,\n          26.81\n        ],\n        \"semantic_type\": \"\",\n        \"description\": \"\"\n      }\n    },\n    {\n      \"column\": \"Collateral\",\n      \"properties\": {\n        \"dtype\": \"category\",\n        \"num_unique_values\": 3,\n        \"samples\": [\n          \"None\",\n          \"House\",\n          \"Car\"\n        ],\n        \"semantic_type\": \"\",\n        \"description\": \"\"\n      }\n    },\n    {\n      \"column\": \"Loan_Amount\",\n      \"properties\": {\n        \"dtype\": \"number\",\n        \"std\": 7427,\n        \"min\": 5060,\n        \"max\": 29951,\n        \"num_unique_values\": 298,\n        \"samples\": [\n          25144,\n          7396,\n          14903\n        ],\n        \"semantic_type\": \"\",\n        \"description\": \"\"\n      }\n    },\n    {\n      \"column\": \"Loan_Purpose\",\n      \"properties\": {\n        \"dtype\": \"category\",\n        \"num_unique_values\": 5,\n        \"samples\": [\n          \"Vacation\",\n          \"Car\",\n          \"Home Improvement\"\n        ],\n        \"semantic_type\": \"\",\n        \"description\": \"\"\n      }\n    },\n    {\n      \"column\": \"Employment_Years\",\n      \"properties\": {\n        \"dtype\": \"number\",\n        \"std\": 4,\n        \"min\": 1,\n        \"max\": 14,\n        \"num_unique_values\": 14,\n        \"samples\": [\n          14,\n          10,\n          11\n        ],\n        \"semantic_type\": \"\",\n        \"description\": \"\"\n      }\n    },\n    {\n      \"column\": \"Loan_Term_Years\",\n      \"properties\": {\n        \"dtype\": \"number\",\n        \"std\": 2,\n        \"min\": 2,\n        \"max\": 9,\n        \"num_unique_values\": 8,\n        \"samples\": [\n          2,\n          9,\n          3\n        ],\n        \"semantic_type\": \"\",\n        \"description\": \"\"\n      }\n    },\n    {\n      \"column\": \"Down_Payment\",\n      \"properties\": {\n        \"dtype\": \"number\",\n        \"std\": 2947,\n        \"min\": 16,\n        \"max\": 9956,\n        \"num_unique_values\": 293,\n        \"samples\": [\n          8080,\n          8623,\n          4592\n        ],\n        \"semantic_type\": \"\",\n        \"description\": \"\"\n      }\n    },\n    {\n      \"column\": \"Existing_Liabilities\",\n      \"properties\": {\n        \"dtype\": \"category\",\n        \"num_unique_values\": 4,\n        \"samples\": [\n          \"Credit Card\",\n          \"None\",\n          \"Personal Loan\"\n        ],\n        \"semantic_type\": \"\",\n        \"description\": \"\"\n      }\n    },\n    {\n      \"column\": \"Citizenship\",\n      \"properties\": {\n        \"dtype\": \"category\",\n        \"num_unique_values\": 2,\n        \"samples\": [\n          \"No\",\n          \"Yes\"\n        ],\n        \"semantic_type\": \"\",\n        \"description\": \"\"\n      }\n    },\n    {\n      \"column\": \"Loan_Approved\",\n      \"properties\": {\n        \"dtype\": \"category\",\n        \"num_unique_values\": 2,\n        \"samples\": [\n          \"Yes\",\n          \"No\"\n        ],\n        \"semantic_type\": \"\",\n        \"description\": \"\"\n      }\n    }\n  ]\n}",
              "type": "dataframe",
              "variable_name": "df"
            },
            "text/html": [
              "\n",
              "  <div id=\"df-dcdbd91f-5e88-4bbd-bfd2-d512b8ae7d55\" class=\"colab-df-container\">\n",
              "    <div>\n",
              "<style scoped>\n",
              "    .dataframe tbody tr th:only-of-type {\n",
              "        vertical-align: middle;\n",
              "    }\n",
              "\n",
              "    .dataframe tbody tr th {\n",
              "        vertical-align: top;\n",
              "    }\n",
              "\n",
              "    .dataframe thead th {\n",
              "        text-align: right;\n",
              "    }\n",
              "</style>\n",
              "<table border=\"1\" class=\"dataframe\">\n",
              "  <thead>\n",
              "    <tr style=\"text-align: right;\">\n",
              "      <th></th>\n",
              "      <th>Credit_Score</th>\n",
              "      <th>Income</th>\n",
              "      <th>DTI_Ratio</th>\n",
              "      <th>Collateral</th>\n",
              "      <th>Loan_Amount</th>\n",
              "      <th>Loan_Purpose</th>\n",
              "      <th>Employment_Years</th>\n",
              "      <th>Loan_Term_Years</th>\n",
              "      <th>Down_Payment</th>\n",
              "      <th>Existing_Liabilities</th>\n",
              "      <th>Citizenship</th>\n",
              "      <th>Loan_Approved</th>\n",
              "    </tr>\n",
              "  </thead>\n",
              "  <tbody>\n",
              "    <tr>\n",
              "      <th>0</th>\n",
              "      <td>602</td>\n",
              "      <td>34014</td>\n",
              "      <td>49.23</td>\n",
              "      <td>None</td>\n",
              "      <td>29762</td>\n",
              "      <td>Medical</td>\n",
              "      <td>11</td>\n",
              "      <td>3</td>\n",
              "      <td>9074</td>\n",
              "      <td>Personal Loan</td>\n",
              "      <td>Yes</td>\n",
              "      <td>No</td>\n",
              "    </tr>\n",
              "    <tr>\n",
              "      <th>1</th>\n",
              "      <td>770</td>\n",
              "      <td>41093</td>\n",
              "      <td>34.46</td>\n",
              "      <td>House</td>\n",
              "      <td>16046</td>\n",
              "      <td>Vacation</td>\n",
              "      <td>5</td>\n",
              "      <td>2</td>\n",
              "      <td>6406</td>\n",
              "      <td>Credit Card</td>\n",
              "      <td>Yes</td>\n",
              "      <td>Yes</td>\n",
              "    </tr>\n",
              "    <tr>\n",
              "      <th>2</th>\n",
              "      <td>606</td>\n",
              "      <td>48070</td>\n",
              "      <td>26.29</td>\n",
              "      <td>None</td>\n",
              "      <td>22717</td>\n",
              "      <td>Home Improvement</td>\n",
              "      <td>5</td>\n",
              "      <td>8</td>\n",
              "      <td>8591</td>\n",
              "      <td>Personal Loan</td>\n",
              "      <td>Yes</td>\n",
              "      <td>No</td>\n",
              "    </tr>\n",
              "    <tr>\n",
              "      <th>3</th>\n",
              "      <td>571</td>\n",
              "      <td>65777</td>\n",
              "      <td>16.52</td>\n",
              "      <td>House</td>\n",
              "      <td>25534</td>\n",
              "      <td>Business</td>\n",
              "      <td>12</td>\n",
              "      <td>6</td>\n",
              "      <td>6907</td>\n",
              "      <td>Mortgage</td>\n",
              "      <td>No</td>\n",
              "      <td>No</td>\n",
              "    </tr>\n",
              "    <tr>\n",
              "      <th>4</th>\n",
              "      <td>688</td>\n",
              "      <td>86958</td>\n",
              "      <td>47.36</td>\n",
              "      <td>House</td>\n",
              "      <td>28150</td>\n",
              "      <td>Home Improvement</td>\n",
              "      <td>5</td>\n",
              "      <td>2</td>\n",
              "      <td>8800</td>\n",
              "      <td>Personal Loan</td>\n",
              "      <td>No</td>\n",
              "      <td>No</td>\n",
              "    </tr>\n",
              "  </tbody>\n",
              "</table>\n",
              "</div>\n",
              "    <div class=\"colab-df-buttons\">\n",
              "\n",
              "  <div class=\"colab-df-container\">\n",
              "    <button class=\"colab-df-convert\" onclick=\"convertToInteractive('df-dcdbd91f-5e88-4bbd-bfd2-d512b8ae7d55')\"\n",
              "            title=\"Convert this dataframe to an interactive table.\"\n",
              "            style=\"display:none;\">\n",
              "\n",
              "  <svg xmlns=\"http://www.w3.org/2000/svg\" height=\"24px\" viewBox=\"0 -960 960 960\">\n",
              "    <path d=\"M120-120v-720h720v720H120Zm60-500h600v-160H180v160Zm220 220h160v-160H400v160Zm0 220h160v-160H400v160ZM180-400h160v-160H180v160Zm440 0h160v-160H620v160ZM180-180h160v-160H180v160Zm440 0h160v-160H620v160Z\"/>\n",
              "  </svg>\n",
              "    </button>\n",
              "\n",
              "  <style>\n",
              "    .colab-df-container {\n",
              "      display:flex;\n",
              "      gap: 12px;\n",
              "    }\n",
              "\n",
              "    .colab-df-convert {\n",
              "      background-color: #E8F0FE;\n",
              "      border: none;\n",
              "      border-radius: 50%;\n",
              "      cursor: pointer;\n",
              "      display: none;\n",
              "      fill: #1967D2;\n",
              "      height: 32px;\n",
              "      padding: 0 0 0 0;\n",
              "      width: 32px;\n",
              "    }\n",
              "\n",
              "    .colab-df-convert:hover {\n",
              "      background-color: #E2EBFA;\n",
              "      box-shadow: 0px 1px 2px rgba(60, 64, 67, 0.3), 0px 1px 3px 1px rgba(60, 64, 67, 0.15);\n",
              "      fill: #174EA6;\n",
              "    }\n",
              "\n",
              "    .colab-df-buttons div {\n",
              "      margin-bottom: 4px;\n",
              "    }\n",
              "\n",
              "    [theme=dark] .colab-df-convert {\n",
              "      background-color: #3B4455;\n",
              "      fill: #D2E3FC;\n",
              "    }\n",
              "\n",
              "    [theme=dark] .colab-df-convert:hover {\n",
              "      background-color: #434B5C;\n",
              "      box-shadow: 0px 1px 3px 1px rgba(0, 0, 0, 0.15);\n",
              "      filter: drop-shadow(0px 1px 2px rgba(0, 0, 0, 0.3));\n",
              "      fill: #FFFFFF;\n",
              "    }\n",
              "  </style>\n",
              "\n",
              "    <script>\n",
              "      const buttonEl =\n",
              "        document.querySelector('#df-dcdbd91f-5e88-4bbd-bfd2-d512b8ae7d55 button.colab-df-convert');\n",
              "      buttonEl.style.display =\n",
              "        google.colab.kernel.accessAllowed ? 'block' : 'none';\n",
              "\n",
              "      async function convertToInteractive(key) {\n",
              "        const element = document.querySelector('#df-dcdbd91f-5e88-4bbd-bfd2-d512b8ae7d55');\n",
              "        const dataTable =\n",
              "          await google.colab.kernel.invokeFunction('convertToInteractive',\n",
              "                                                    [key], {});\n",
              "        if (!dataTable) return;\n",
              "\n",
              "        const docLinkHtml = 'Like what you see? Visit the ' +\n",
              "          '<a target=\"_blank\" href=https://colab.research.google.com/notebooks/data_table.ipynb>data table notebook</a>'\n",
              "          + ' to learn more about interactive tables.';\n",
              "        element.innerHTML = '';\n",
              "        dataTable['output_type'] = 'display_data';\n",
              "        await google.colab.output.renderOutput(dataTable, element);\n",
              "        const docLink = document.createElement('div');\n",
              "        docLink.innerHTML = docLinkHtml;\n",
              "        element.appendChild(docLink);\n",
              "      }\n",
              "    </script>\n",
              "  </div>\n",
              "\n",
              "\n",
              "<div id=\"df-fa17d6b9-d5b5-43be-abed-7979229b238f\">\n",
              "  <button class=\"colab-df-quickchart\" onclick=\"quickchart('df-fa17d6b9-d5b5-43be-abed-7979229b238f')\"\n",
              "            title=\"Suggest charts\"\n",
              "            style=\"display:none;\">\n",
              "\n",
              "<svg xmlns=\"http://www.w3.org/2000/svg\" height=\"24px\"viewBox=\"0 0 24 24\"\n",
              "     width=\"24px\">\n",
              "    <g>\n",
              "        <path d=\"M19 3H5c-1.1 0-2 .9-2 2v14c0 1.1.9 2 2 2h14c1.1 0 2-.9 2-2V5c0-1.1-.9-2-2-2zM9 17H7v-7h2v7zm4 0h-2V7h2v10zm4 0h-2v-4h2v4z\"/>\n",
              "    </g>\n",
              "</svg>\n",
              "  </button>\n",
              "\n",
              "<style>\n",
              "  .colab-df-quickchart {\n",
              "      --bg-color: #E8F0FE;\n",
              "      --fill-color: #1967D2;\n",
              "      --hover-bg-color: #E2EBFA;\n",
              "      --hover-fill-color: #174EA6;\n",
              "      --disabled-fill-color: #AAA;\n",
              "      --disabled-bg-color: #DDD;\n",
              "  }\n",
              "\n",
              "  [theme=dark] .colab-df-quickchart {\n",
              "      --bg-color: #3B4455;\n",
              "      --fill-color: #D2E3FC;\n",
              "      --hover-bg-color: #434B5C;\n",
              "      --hover-fill-color: #FFFFFF;\n",
              "      --disabled-bg-color: #3B4455;\n",
              "      --disabled-fill-color: #666;\n",
              "  }\n",
              "\n",
              "  .colab-df-quickchart {\n",
              "    background-color: var(--bg-color);\n",
              "    border: none;\n",
              "    border-radius: 50%;\n",
              "    cursor: pointer;\n",
              "    display: none;\n",
              "    fill: var(--fill-color);\n",
              "    height: 32px;\n",
              "    padding: 0;\n",
              "    width: 32px;\n",
              "  }\n",
              "\n",
              "  .colab-df-quickchart:hover {\n",
              "    background-color: var(--hover-bg-color);\n",
              "    box-shadow: 0 1px 2px rgba(60, 64, 67, 0.3), 0 1px 3px 1px rgba(60, 64, 67, 0.15);\n",
              "    fill: var(--button-hover-fill-color);\n",
              "  }\n",
              "\n",
              "  .colab-df-quickchart-complete:disabled,\n",
              "  .colab-df-quickchart-complete:disabled:hover {\n",
              "    background-color: var(--disabled-bg-color);\n",
              "    fill: var(--disabled-fill-color);\n",
              "    box-shadow: none;\n",
              "  }\n",
              "\n",
              "  .colab-df-spinner {\n",
              "    border: 2px solid var(--fill-color);\n",
              "    border-color: transparent;\n",
              "    border-bottom-color: var(--fill-color);\n",
              "    animation:\n",
              "      spin 1s steps(1) infinite;\n",
              "  }\n",
              "\n",
              "  @keyframes spin {\n",
              "    0% {\n",
              "      border-color: transparent;\n",
              "      border-bottom-color: var(--fill-color);\n",
              "      border-left-color: var(--fill-color);\n",
              "    }\n",
              "    20% {\n",
              "      border-color: transparent;\n",
              "      border-left-color: var(--fill-color);\n",
              "      border-top-color: var(--fill-color);\n",
              "    }\n",
              "    30% {\n",
              "      border-color: transparent;\n",
              "      border-left-color: var(--fill-color);\n",
              "      border-top-color: var(--fill-color);\n",
              "      border-right-color: var(--fill-color);\n",
              "    }\n",
              "    40% {\n",
              "      border-color: transparent;\n",
              "      border-right-color: var(--fill-color);\n",
              "      border-top-color: var(--fill-color);\n",
              "    }\n",
              "    60% {\n",
              "      border-color: transparent;\n",
              "      border-right-color: var(--fill-color);\n",
              "    }\n",
              "    80% {\n",
              "      border-color: transparent;\n",
              "      border-right-color: var(--fill-color);\n",
              "      border-bottom-color: var(--fill-color);\n",
              "    }\n",
              "    90% {\n",
              "      border-color: transparent;\n",
              "      border-bottom-color: var(--fill-color);\n",
              "    }\n",
              "  }\n",
              "</style>\n",
              "\n",
              "  <script>\n",
              "    async function quickchart(key) {\n",
              "      const quickchartButtonEl =\n",
              "        document.querySelector('#' + key + ' button');\n",
              "      quickchartButtonEl.disabled = true;  // To prevent multiple clicks.\n",
              "      quickchartButtonEl.classList.add('colab-df-spinner');\n",
              "      try {\n",
              "        const charts = await google.colab.kernel.invokeFunction(\n",
              "            'suggestCharts', [key], {});\n",
              "      } catch (error) {\n",
              "        console.error('Error during call to suggestCharts:', error);\n",
              "      }\n",
              "      quickchartButtonEl.classList.remove('colab-df-spinner');\n",
              "      quickchartButtonEl.classList.add('colab-df-quickchart-complete');\n",
              "    }\n",
              "    (() => {\n",
              "      let quickchartButtonEl =\n",
              "        document.querySelector('#df-fa17d6b9-d5b5-43be-abed-7979229b238f button');\n",
              "      quickchartButtonEl.style.display =\n",
              "        google.colab.kernel.accessAllowed ? 'block' : 'none';\n",
              "    })();\n",
              "  </script>\n",
              "</div>\n",
              "\n",
              "    </div>\n",
              "  </div>\n"
            ],
            "text/plain": [
              "   Credit_Score  Income  DTI_Ratio Collateral  Loan_Amount      Loan_Purpose  \\\n",
              "0           602   34014      49.23       None        29762           Medical   \n",
              "1           770   41093      34.46      House        16046          Vacation   \n",
              "2           606   48070      26.29       None        22717  Home Improvement   \n",
              "3           571   65777      16.52      House        25534          Business   \n",
              "4           688   86958      47.36      House        28150  Home Improvement   \n",
              "\n",
              "   Employment_Years  Loan_Term_Years  Down_Payment Existing_Liabilities  \\\n",
              "0                11                3          9074        Personal Loan   \n",
              "1                 5                2          6406          Credit Card   \n",
              "2                 5                8          8591        Personal Loan   \n",
              "3                12                6          6907             Mortgage   \n",
              "4                 5                2          8800        Personal Loan   \n",
              "\n",
              "  Citizenship Loan_Approved  \n",
              "0         Yes            No  \n",
              "1         Yes           Yes  \n",
              "2         Yes            No  \n",
              "3          No            No  \n",
              "4          No            No  "
            ]
          },
          "execution_count": 7,
          "metadata": {},
          "output_type": "execute_result"
        }
      ],
      "source": [
        "df.head()"
      ]
    },
    {
      "cell_type": "code",
      "execution_count": 8,
      "metadata": {
        "colab": {
          "base_uri": "https://localhost:8080/",
          "height": 460
        },
        "id": "fRDaLe9jhFjD",
        "outputId": "4e9d9195-4b63-46f6-a1a5-81e8637ae54d"
      },
      "outputs": [
        {
          "data": {
            "text/html": [
              "<div>\n",
              "<style scoped>\n",
              "    .dataframe tbody tr th:only-of-type {\n",
              "        vertical-align: middle;\n",
              "    }\n",
              "\n",
              "    .dataframe tbody tr th {\n",
              "        vertical-align: top;\n",
              "    }\n",
              "\n",
              "    .dataframe thead th {\n",
              "        text-align: right;\n",
              "    }\n",
              "</style>\n",
              "<table border=\"1\" class=\"dataframe\">\n",
              "  <thead>\n",
              "    <tr style=\"text-align: right;\">\n",
              "      <th></th>\n",
              "      <th>0</th>\n",
              "    </tr>\n",
              "  </thead>\n",
              "  <tbody>\n",
              "    <tr>\n",
              "      <th>Credit_Score</th>\n",
              "      <td>int64</td>\n",
              "    </tr>\n",
              "    <tr>\n",
              "      <th>Income</th>\n",
              "      <td>int64</td>\n",
              "    </tr>\n",
              "    <tr>\n",
              "      <th>DTI_Ratio</th>\n",
              "      <td>float64</td>\n",
              "    </tr>\n",
              "    <tr>\n",
              "      <th>Collateral</th>\n",
              "      <td>object</td>\n",
              "    </tr>\n",
              "    <tr>\n",
              "      <th>Loan_Amount</th>\n",
              "      <td>int64</td>\n",
              "    </tr>\n",
              "    <tr>\n",
              "      <th>Loan_Purpose</th>\n",
              "      <td>object</td>\n",
              "    </tr>\n",
              "    <tr>\n",
              "      <th>Employment_Years</th>\n",
              "      <td>int64</td>\n",
              "    </tr>\n",
              "    <tr>\n",
              "      <th>Loan_Term_Years</th>\n",
              "      <td>int64</td>\n",
              "    </tr>\n",
              "    <tr>\n",
              "      <th>Down_Payment</th>\n",
              "      <td>int64</td>\n",
              "    </tr>\n",
              "    <tr>\n",
              "      <th>Existing_Liabilities</th>\n",
              "      <td>object</td>\n",
              "    </tr>\n",
              "    <tr>\n",
              "      <th>Citizenship</th>\n",
              "      <td>object</td>\n",
              "    </tr>\n",
              "    <tr>\n",
              "      <th>Loan_Approved</th>\n",
              "      <td>object</td>\n",
              "    </tr>\n",
              "  </tbody>\n",
              "</table>\n",
              "</div><br><label><b>dtype:</b> object</label>"
            ],
            "text/plain": [
              "Credit_Score              int64\n",
              "Income                    int64\n",
              "DTI_Ratio               float64\n",
              "Collateral               object\n",
              "Loan_Amount               int64\n",
              "Loan_Purpose             object\n",
              "Employment_Years          int64\n",
              "Loan_Term_Years           int64\n",
              "Down_Payment              int64\n",
              "Existing_Liabilities     object\n",
              "Citizenship              object\n",
              "Loan_Approved            object\n",
              "dtype: object"
            ]
          },
          "execution_count": 8,
          "metadata": {},
          "output_type": "execute_result"
        }
      ],
      "source": [
        "df.dtypes"
      ]
    },
    {
      "cell_type": "code",
      "execution_count": 9,
      "metadata": {
        "colab": {
          "base_uri": "https://localhost:8080/",
          "height": 542
        },
        "id": "7SjgJE9sel75",
        "outputId": "b019e770-2897-4f5d-8e87-82a8a7eb0d8e"
      },
      "outputs": [
        {
          "data": {
            "text/html": [
              "<html>\n",
              "<head><meta charset=\"utf-8\" /></head>\n",
              "<body>\n",
              "    <div>            <script src=\"https://cdnjs.cloudflare.com/ajax/libs/mathjax/2.7.5/MathJax.js?config=TeX-AMS-MML_SVG\"></script><script type=\"text/javascript\">if (window.MathJax && window.MathJax.Hub && window.MathJax.Hub.Config) {window.MathJax.Hub.Config({SVG: {font: \"STIX-Web\"}});}</script>                <script type=\"text/javascript\">window.PlotlyConfig = {MathJaxConfig: 'local'};</script>\n",
              "        <script charset=\"utf-8\" src=\"https://cdn.plot.ly/plotly-2.35.2.min.js\"></script>                <div id=\"2af5b8f8-5b12-4d71-be00-85aa6fbe55e6\" class=\"plotly-graph-div\" style=\"height:525px; width:100%;\"></div>            <script type=\"text/javascript\">                                    window.PLOTLYENV=window.PLOTLYENV || {};                                    if (document.getElementById(\"2af5b8f8-5b12-4d71-be00-85aa6fbe55e6\")) {                    Plotly.newPlot(                        \"2af5b8f8-5b12-4d71-be00-85aa6fbe55e6\",                        [{\"alignmentgroup\":\"True\",\"bingroup\":\"x\",\"hovertemplate\":\"Loan_Approved=%{x}\\u003cbr\\u003ecount=%{y}\\u003cextra\\u003e\\u003c\\u002fextra\\u003e\",\"legendgroup\":\"\",\"marker\":{\"color\":\"#636efa\",\"pattern\":{\"shape\":\"\"}},\"name\":\"\",\"offsetgroup\":\"\",\"orientation\":\"v\",\"showlegend\":false,\"x\":[\"No\",\"Yes\",\"No\",\"No\",\"No\",\"No\",\"Yes\",\"Yes\",\"Yes\",\"No\",\"No\",\"Yes\",\"No\",\"Yes\",\"Yes\",\"Yes\",\"No\",\"No\",\"Yes\",\"No\",\"Yes\",\"Yes\",\"No\",\"No\",\"Yes\",\"Yes\",\"Yes\",\"Yes\",\"Yes\",\"No\",\"No\",\"Yes\",\"Yes\",\"No\",\"No\",\"Yes\",\"Yes\",\"No\",\"No\",\"Yes\",\"No\",\"No\",\"No\",\"Yes\",\"No\",\"Yes\",\"No\",\"No\",\"No\",\"No\",\"Yes\",\"Yes\",\"Yes\",\"Yes\",\"No\",\"Yes\",\"Yes\",\"Yes\",\"Yes\",\"Yes\",\"Yes\",\"Yes\",\"No\",\"Yes\",\"Yes\",\"Yes\",\"No\",\"Yes\",\"Yes\",\"Yes\",\"Yes\",\"No\",\"No\",\"No\",\"No\",\"No\",\"Yes\",\"No\",\"No\",\"Yes\",\"No\",\"Yes\",\"No\",\"Yes\",\"No\",\"No\",\"No\",\"Yes\",\"Yes\",\"Yes\",\"No\",\"No\",\"No\",\"No\",\"Yes\",\"No\",\"Yes\",\"Yes\",\"No\",\"Yes\",\"Yes\",\"No\",\"Yes\",\"No\",\"Yes\",\"Yes\",\"Yes\",\"Yes\",\"No\",\"No\",\"Yes\",\"No\",\"Yes\",\"Yes\",\"No\",\"No\",\"Yes\",\"Yes\",\"Yes\",\"Yes\",\"Yes\",\"No\",\"No\",\"No\",\"No\",\"Yes\",\"No\",\"No\",\"Yes\",\"No\",\"Yes\",\"No\",\"No\",\"Yes\",\"Yes\",\"No\",\"No\",\"No\",\"Yes\",\"Yes\",\"Yes\",\"Yes\",\"Yes\",\"Yes\",\"Yes\",\"Yes\",\"Yes\",\"No\",\"Yes\",\"No\",\"No\",\"Yes\",\"No\",\"Yes\",\"Yes\",\"Yes\",\"No\",\"Yes\",\"Yes\",\"Yes\",\"No\",\"Yes\",\"Yes\",\"Yes\",\"No\",\"Yes\",\"No\",\"Yes\",\"Yes\",\"No\",\"Yes\",\"No\",\"No\",\"Yes\",\"Yes\",\"Yes\",\"No\",\"No\",\"Yes\",\"Yes\",\"Yes\",\"Yes\",\"Yes\",\"Yes\",\"Yes\",\"Yes\",\"Yes\",\"No\",\"Yes\",\"No\",\"Yes\",\"Yes\",\"No\",\"No\",\"Yes\",\"Yes\",\"Yes\",\"No\",\"Yes\",\"Yes\",\"Yes\",\"Yes\",\"Yes\",\"Yes\",\"No\",\"No\",\"No\",\"Yes\",\"No\",\"No\",\"No\",\"Yes\",\"Yes\",\"Yes\",\"No\",\"No\",\"Yes\",\"Yes\",\"No\",\"No\",\"No\",\"Yes\",\"No\",\"Yes\",\"Yes\",\"Yes\",\"Yes\",\"No\",\"No\",\"Yes\",\"Yes\",\"No\",\"Yes\",\"Yes\",\"Yes\",\"Yes\",\"Yes\",\"No\",\"Yes\",\"Yes\",\"Yes\",\"Yes\",\"Yes\",\"Yes\",\"No\",\"Yes\",\"Yes\",\"Yes\",\"No\",\"No\",\"No\",\"Yes\",\"No\",\"Yes\",\"Yes\",\"No\",\"Yes\",\"No\",\"Yes\",\"No\",\"No\",\"Yes\",\"Yes\",\"No\",\"No\",\"Yes\",\"Yes\",\"No\",\"No\",\"No\",\"No\",\"No\",\"Yes\",\"Yes\",\"Yes\",\"No\",\"No\",\"No\",\"Yes\",\"No\",\"Yes\",\"Yes\",\"No\",\"No\",\"Yes\",\"No\",\"Yes\",\"Yes\",\"Yes\",\"No\",\"Yes\",\"No\",\"Yes\",\"Yes\",\"No\",\"No\",\"Yes\",\"Yes\",\"Yes\",\"Yes\"],\"xaxis\":\"x\",\"yaxis\":\"y\",\"type\":\"histogram\"}],                        {\"template\":{\"data\":{\"histogram2dcontour\":[{\"type\":\"histogram2dcontour\",\"colorbar\":{\"outlinewidth\":0,\"ticks\":\"\"},\"colorscale\":[[0.0,\"#0d0887\"],[0.1111111111111111,\"#46039f\"],[0.2222222222222222,\"#7201a8\"],[0.3333333333333333,\"#9c179e\"],[0.4444444444444444,\"#bd3786\"],[0.5555555555555556,\"#d8576b\"],[0.6666666666666666,\"#ed7953\"],[0.7777777777777778,\"#fb9f3a\"],[0.8888888888888888,\"#fdca26\"],[1.0,\"#f0f921\"]]}],\"choropleth\":[{\"type\":\"choropleth\",\"colorbar\":{\"outlinewidth\":0,\"ticks\":\"\"}}],\"histogram2d\":[{\"type\":\"histogram2d\",\"colorbar\":{\"outlinewidth\":0,\"ticks\":\"\"},\"colorscale\":[[0.0,\"#0d0887\"],[0.1111111111111111,\"#46039f\"],[0.2222222222222222,\"#7201a8\"],[0.3333333333333333,\"#9c179e\"],[0.4444444444444444,\"#bd3786\"],[0.5555555555555556,\"#d8576b\"],[0.6666666666666666,\"#ed7953\"],[0.7777777777777778,\"#fb9f3a\"],[0.8888888888888888,\"#fdca26\"],[1.0,\"#f0f921\"]]}],\"heatmap\":[{\"type\":\"heatmap\",\"colorbar\":{\"outlinewidth\":0,\"ticks\":\"\"},\"colorscale\":[[0.0,\"#0d0887\"],[0.1111111111111111,\"#46039f\"],[0.2222222222222222,\"#7201a8\"],[0.3333333333333333,\"#9c179e\"],[0.4444444444444444,\"#bd3786\"],[0.5555555555555556,\"#d8576b\"],[0.6666666666666666,\"#ed7953\"],[0.7777777777777778,\"#fb9f3a\"],[0.8888888888888888,\"#fdca26\"],[1.0,\"#f0f921\"]]}],\"heatmapgl\":[{\"type\":\"heatmapgl\",\"colorbar\":{\"outlinewidth\":0,\"ticks\":\"\"},\"colorscale\":[[0.0,\"#0d0887\"],[0.1111111111111111,\"#46039f\"],[0.2222222222222222,\"#7201a8\"],[0.3333333333333333,\"#9c179e\"],[0.4444444444444444,\"#bd3786\"],[0.5555555555555556,\"#d8576b\"],[0.6666666666666666,\"#ed7953\"],[0.7777777777777778,\"#fb9f3a\"],[0.8888888888888888,\"#fdca26\"],[1.0,\"#f0f921\"]]}],\"contourcarpet\":[{\"type\":\"contourcarpet\",\"colorbar\":{\"outlinewidth\":0,\"ticks\":\"\"}}],\"contour\":[{\"type\":\"contour\",\"colorbar\":{\"outlinewidth\":0,\"ticks\":\"\"},\"colorscale\":[[0.0,\"#0d0887\"],[0.1111111111111111,\"#46039f\"],[0.2222222222222222,\"#7201a8\"],[0.3333333333333333,\"#9c179e\"],[0.4444444444444444,\"#bd3786\"],[0.5555555555555556,\"#d8576b\"],[0.6666666666666666,\"#ed7953\"],[0.7777777777777778,\"#fb9f3a\"],[0.8888888888888888,\"#fdca26\"],[1.0,\"#f0f921\"]]}],\"surface\":[{\"type\":\"surface\",\"colorbar\":{\"outlinewidth\":0,\"ticks\":\"\"},\"colorscale\":[[0.0,\"#0d0887\"],[0.1111111111111111,\"#46039f\"],[0.2222222222222222,\"#7201a8\"],[0.3333333333333333,\"#9c179e\"],[0.4444444444444444,\"#bd3786\"],[0.5555555555555556,\"#d8576b\"],[0.6666666666666666,\"#ed7953\"],[0.7777777777777778,\"#fb9f3a\"],[0.8888888888888888,\"#fdca26\"],[1.0,\"#f0f921\"]]}],\"mesh3d\":[{\"type\":\"mesh3d\",\"colorbar\":{\"outlinewidth\":0,\"ticks\":\"\"}}],\"scatter\":[{\"fillpattern\":{\"fillmode\":\"overlay\",\"size\":10,\"solidity\":0.2},\"type\":\"scatter\"}],\"parcoords\":[{\"type\":\"parcoords\",\"line\":{\"colorbar\":{\"outlinewidth\":0,\"ticks\":\"\"}}}],\"scatterpolargl\":[{\"type\":\"scatterpolargl\",\"marker\":{\"colorbar\":{\"outlinewidth\":0,\"ticks\":\"\"}}}],\"bar\":[{\"error_x\":{\"color\":\"#2a3f5f\"},\"error_y\":{\"color\":\"#2a3f5f\"},\"marker\":{\"line\":{\"color\":\"#E5ECF6\",\"width\":0.5},\"pattern\":{\"fillmode\":\"overlay\",\"size\":10,\"solidity\":0.2}},\"type\":\"bar\"}],\"scattergeo\":[{\"type\":\"scattergeo\",\"marker\":{\"colorbar\":{\"outlinewidth\":0,\"ticks\":\"\"}}}],\"scatterpolar\":[{\"type\":\"scatterpolar\",\"marker\":{\"colorbar\":{\"outlinewidth\":0,\"ticks\":\"\"}}}],\"histogram\":[{\"marker\":{\"pattern\":{\"fillmode\":\"overlay\",\"size\":10,\"solidity\":0.2}},\"type\":\"histogram\"}],\"scattergl\":[{\"type\":\"scattergl\",\"marker\":{\"colorbar\":{\"outlinewidth\":0,\"ticks\":\"\"}}}],\"scatter3d\":[{\"type\":\"scatter3d\",\"line\":{\"colorbar\":{\"outlinewidth\":0,\"ticks\":\"\"}},\"marker\":{\"colorbar\":{\"outlinewidth\":0,\"ticks\":\"\"}}}],\"scattermapbox\":[{\"type\":\"scattermapbox\",\"marker\":{\"colorbar\":{\"outlinewidth\":0,\"ticks\":\"\"}}}],\"scatterternary\":[{\"type\":\"scatterternary\",\"marker\":{\"colorbar\":{\"outlinewidth\":0,\"ticks\":\"\"}}}],\"scattercarpet\":[{\"type\":\"scattercarpet\",\"marker\":{\"colorbar\":{\"outlinewidth\":0,\"ticks\":\"\"}}}],\"carpet\":[{\"aaxis\":{\"endlinecolor\":\"#2a3f5f\",\"gridcolor\":\"white\",\"linecolor\":\"white\",\"minorgridcolor\":\"white\",\"startlinecolor\":\"#2a3f5f\"},\"baxis\":{\"endlinecolor\":\"#2a3f5f\",\"gridcolor\":\"white\",\"linecolor\":\"white\",\"minorgridcolor\":\"white\",\"startlinecolor\":\"#2a3f5f\"},\"type\":\"carpet\"}],\"table\":[{\"cells\":{\"fill\":{\"color\":\"#EBF0F8\"},\"line\":{\"color\":\"white\"}},\"header\":{\"fill\":{\"color\":\"#C8D4E3\"},\"line\":{\"color\":\"white\"}},\"type\":\"table\"}],\"barpolar\":[{\"marker\":{\"line\":{\"color\":\"#E5ECF6\",\"width\":0.5},\"pattern\":{\"fillmode\":\"overlay\",\"size\":10,\"solidity\":0.2}},\"type\":\"barpolar\"}],\"pie\":[{\"automargin\":true,\"type\":\"pie\"}]},\"layout\":{\"autotypenumbers\":\"strict\",\"colorway\":[\"#636efa\",\"#EF553B\",\"#00cc96\",\"#ab63fa\",\"#FFA15A\",\"#19d3f3\",\"#FF6692\",\"#B6E880\",\"#FF97FF\",\"#FECB52\"],\"font\":{\"color\":\"#2a3f5f\"},\"hovermode\":\"closest\",\"hoverlabel\":{\"align\":\"left\"},\"paper_bgcolor\":\"white\",\"plot_bgcolor\":\"#E5ECF6\",\"polar\":{\"bgcolor\":\"#E5ECF6\",\"angularaxis\":{\"gridcolor\":\"white\",\"linecolor\":\"white\",\"ticks\":\"\"},\"radialaxis\":{\"gridcolor\":\"white\",\"linecolor\":\"white\",\"ticks\":\"\"}},\"ternary\":{\"bgcolor\":\"#E5ECF6\",\"aaxis\":{\"gridcolor\":\"white\",\"linecolor\":\"white\",\"ticks\":\"\"},\"baxis\":{\"gridcolor\":\"white\",\"linecolor\":\"white\",\"ticks\":\"\"},\"caxis\":{\"gridcolor\":\"white\",\"linecolor\":\"white\",\"ticks\":\"\"}},\"coloraxis\":{\"colorbar\":{\"outlinewidth\":0,\"ticks\":\"\"}},\"colorscale\":{\"sequential\":[[0.0,\"#0d0887\"],[0.1111111111111111,\"#46039f\"],[0.2222222222222222,\"#7201a8\"],[0.3333333333333333,\"#9c179e\"],[0.4444444444444444,\"#bd3786\"],[0.5555555555555556,\"#d8576b\"],[0.6666666666666666,\"#ed7953\"],[0.7777777777777778,\"#fb9f3a\"],[0.8888888888888888,\"#fdca26\"],[1.0,\"#f0f921\"]],\"sequentialminus\":[[0.0,\"#0d0887\"],[0.1111111111111111,\"#46039f\"],[0.2222222222222222,\"#7201a8\"],[0.3333333333333333,\"#9c179e\"],[0.4444444444444444,\"#bd3786\"],[0.5555555555555556,\"#d8576b\"],[0.6666666666666666,\"#ed7953\"],[0.7777777777777778,\"#fb9f3a\"],[0.8888888888888888,\"#fdca26\"],[1.0,\"#f0f921\"]],\"diverging\":[[0,\"#8e0152\"],[0.1,\"#c51b7d\"],[0.2,\"#de77ae\"],[0.3,\"#f1b6da\"],[0.4,\"#fde0ef\"],[0.5,\"#f7f7f7\"],[0.6,\"#e6f5d0\"],[0.7,\"#b8e186\"],[0.8,\"#7fbc41\"],[0.9,\"#4d9221\"],[1,\"#276419\"]]},\"xaxis\":{\"gridcolor\":\"white\",\"linecolor\":\"white\",\"ticks\":\"\",\"title\":{\"standoff\":15},\"zerolinecolor\":\"white\",\"automargin\":true,\"zerolinewidth\":2},\"yaxis\":{\"gridcolor\":\"white\",\"linecolor\":\"white\",\"ticks\":\"\",\"title\":{\"standoff\":15},\"zerolinecolor\":\"white\",\"automargin\":true,\"zerolinewidth\":2},\"scene\":{\"xaxis\":{\"backgroundcolor\":\"#E5ECF6\",\"gridcolor\":\"white\",\"linecolor\":\"white\",\"showbackground\":true,\"ticks\":\"\",\"zerolinecolor\":\"white\",\"gridwidth\":2},\"yaxis\":{\"backgroundcolor\":\"#E5ECF6\",\"gridcolor\":\"white\",\"linecolor\":\"white\",\"showbackground\":true,\"ticks\":\"\",\"zerolinecolor\":\"white\",\"gridwidth\":2},\"zaxis\":{\"backgroundcolor\":\"#E5ECF6\",\"gridcolor\":\"white\",\"linecolor\":\"white\",\"showbackground\":true,\"ticks\":\"\",\"zerolinecolor\":\"white\",\"gridwidth\":2}},\"shapedefaults\":{\"line\":{\"color\":\"#2a3f5f\"}},\"annotationdefaults\":{\"arrowcolor\":\"#2a3f5f\",\"arrowhead\":0,\"arrowwidth\":1},\"geo\":{\"bgcolor\":\"white\",\"landcolor\":\"#E5ECF6\",\"subunitcolor\":\"white\",\"showland\":true,\"showlakes\":true,\"lakecolor\":\"white\"},\"title\":{\"x\":0.05},\"mapbox\":{\"style\":\"light\"}}},\"xaxis\":{\"anchor\":\"y\",\"domain\":[0.0,1.0],\"title\":{\"text\":\"Loan_Approved\"}},\"yaxis\":{\"anchor\":\"x\",\"domain\":[0.0,1.0],\"title\":{\"text\":\"count\"}},\"legend\":{\"tracegroupgap\":0},\"title\":{\"text\":\"Loan Status Distribution\"},\"barmode\":\"relative\"},                        {\"responsive\": true}                    ).then(function(){\n",
              "                            \n",
              "var gd = document.getElementById('2af5b8f8-5b12-4d71-be00-85aa6fbe55e6');\n",
              "var x = new MutationObserver(function (mutations, observer) {{\n",
              "        var display = window.getComputedStyle(gd).display;\n",
              "        if (!display || display === 'none') {{\n",
              "            console.log([gd, 'removed!']);\n",
              "            Plotly.purge(gd);\n",
              "            observer.disconnect();\n",
              "        }}\n",
              "}});\n",
              "\n",
              "// Listen for the removal of the full notebook cells\n",
              "var notebookContainer = gd.closest('#notebook-container');\n",
              "if (notebookContainer) {{\n",
              "    x.observe(notebookContainer, {childList: true});\n",
              "}}\n",
              "\n",
              "// Listen for the clearing of the current output cell\n",
              "var outputEl = gd.closest('.output');\n",
              "if (outputEl) {{\n",
              "    x.observe(outputEl, {childList: true});\n",
              "}}\n",
              "\n",
              "                        })                };                            </script>        </div>\n",
              "</body>\n",
              "</html>"
            ]
          },
          "metadata": {},
          "output_type": "display_data"
        }
      ],
      "source": [
        "fig_loan_status=px.histogram(df,x='Loan_Approved',title='Loan Status Distribution')\n",
        "fig_loan_status.show()"
      ]
    },
    {
      "cell_type": "code",
      "execution_count": 10,
      "metadata": {
        "colab": {
          "base_uri": "https://localhost:8080/",
          "height": 300
        },
        "id": "87zyvsXIeqOo",
        "outputId": "80b0cafb-f879-498a-e236-d3d28e59e117"
      },
      "outputs": [
        {
          "data": {
            "application/vnd.google.colaboratory.intrinsic+json": {
              "summary": "{\n  \"name\": \"df\",\n  \"rows\": 8,\n  \"fields\": [\n    {\n      \"column\": \"Credit_Score\",\n      \"properties\": {\n        \"dtype\": \"number\",\n        \"std\": 238.54872689278915,\n        \"min\": 83.6460250934576,\n        \"max\": 797.0,\n        \"num_unique_values\": 8,\n        \"samples\": [\n          654.7033333333334,\n          659.0,\n          300.0\n        ],\n        \"semantic_type\": \"\",\n        \"description\": \"\"\n      }\n    },\n    {\n      \"column\": \"Income\",\n      \"properties\": {\n        \"dtype\": \"number\",\n        \"std\": 40200.62884570172,\n        \"min\": 300.0,\n        \"max\": 119930.0,\n        \"num_unique_values\": 8,\n        \"samples\": [\n          76509.52666666667,\n          77119.5,\n          300.0\n        ],\n        \"semantic_type\": \"\",\n        \"description\": \"\"\n      }\n    },\n    {\n      \"column\": \"DTI_Ratio\",\n      \"properties\": {\n        \"dtype\": \"number\",\n        \"std\": 96.53112988858437,\n        \"min\": 9.930301212086409,\n        \"max\": 300.0,\n        \"num_unique_values\": 8,\n        \"samples\": [\n          32.65633333333333,\n          33.605000000000004,\n          300.0\n        ],\n        \"semantic_type\": \"\",\n        \"description\": \"\"\n      }\n    },\n    {\n      \"column\": \"Loan_Amount\",\n      \"properties\": {\n        \"dtype\": \"number\",\n        \"std\": 9999.519471603575,\n        \"min\": 300.0,\n        \"max\": 29951.0,\n        \"num_unique_values\": 8,\n        \"samples\": [\n          17786.246666666666,\n          17796.5,\n          300.0\n        ],\n        \"semantic_type\": \"\",\n        \"description\": \"\"\n      }\n    },\n    {\n      \"column\": \"Employment_Years\",\n      \"properties\": {\n        \"dtype\": \"number\",\n        \"std\": 103.70016625979095,\n        \"min\": 1.0,\n        \"max\": 300.0,\n        \"num_unique_values\": 8,\n        \"samples\": [\n          7.426666666666667,\n          7.0,\n          300.0\n        ],\n        \"semantic_type\": \"\",\n        \"description\": \"\"\n      }\n    },\n    {\n      \"column\": \"Loan_Term_Years\",\n      \"properties\": {\n        \"dtype\": \"number\",\n        \"std\": 104.39310436538156,\n        \"min\": 2.0,\n        \"max\": 300.0,\n        \"num_unique_values\": 8,\n        \"samples\": [\n          5.4366666666666665,\n          5.0,\n          300.0\n        ],\n        \"semantic_type\": \"\",\n        \"description\": \"\"\n      }\n    },\n    {\n      \"column\": \"Down_Payment\",\n      \"properties\": {\n        \"dtype\": \"number\",\n        \"std\": 3490.308028614727,\n        \"min\": 16.0,\n        \"max\": 9956.0,\n        \"num_unique_values\": 8,\n        \"samples\": [\n          5158.42,\n          5436.0,\n          300.0\n        ],\n        \"semantic_type\": \"\",\n        \"description\": \"\"\n      }\n    }\n  ]\n}",
              "type": "dataframe"
            },
            "text/html": [
              "\n",
              "  <div id=\"df-725b1f87-7d6d-4b9b-8a23-9eaa1cc3c86b\" class=\"colab-df-container\">\n",
              "    <div>\n",
              "<style scoped>\n",
              "    .dataframe tbody tr th:only-of-type {\n",
              "        vertical-align: middle;\n",
              "    }\n",
              "\n",
              "    .dataframe tbody tr th {\n",
              "        vertical-align: top;\n",
              "    }\n",
              "\n",
              "    .dataframe thead th {\n",
              "        text-align: right;\n",
              "    }\n",
              "</style>\n",
              "<table border=\"1\" class=\"dataframe\">\n",
              "  <thead>\n",
              "    <tr style=\"text-align: right;\">\n",
              "      <th></th>\n",
              "      <th>Credit_Score</th>\n",
              "      <th>Income</th>\n",
              "      <th>DTI_Ratio</th>\n",
              "      <th>Loan_Amount</th>\n",
              "      <th>Employment_Years</th>\n",
              "      <th>Loan_Term_Years</th>\n",
              "      <th>Down_Payment</th>\n",
              "    </tr>\n",
              "  </thead>\n",
              "  <tbody>\n",
              "    <tr>\n",
              "      <th>count</th>\n",
              "      <td>300.000000</td>\n",
              "      <td>300.000000</td>\n",
              "      <td>300.000000</td>\n",
              "      <td>300.000000</td>\n",
              "      <td>300.000000</td>\n",
              "      <td>300.000000</td>\n",
              "      <td>300.000000</td>\n",
              "    </tr>\n",
              "    <tr>\n",
              "      <th>mean</th>\n",
              "      <td>654.703333</td>\n",
              "      <td>76509.526667</td>\n",
              "      <td>32.656333</td>\n",
              "      <td>17786.246667</td>\n",
              "      <td>7.426667</td>\n",
              "      <td>5.436667</td>\n",
              "      <td>5158.420000</td>\n",
              "    </tr>\n",
              "    <tr>\n",
              "      <th>std</th>\n",
              "      <td>83.646025</td>\n",
              "      <td>26931.928381</td>\n",
              "      <td>9.930301</td>\n",
              "      <td>7427.772855</td>\n",
              "      <td>4.037196</td>\n",
              "      <td>2.235168</td>\n",
              "      <td>2947.072293</td>\n",
              "    </tr>\n",
              "    <tr>\n",
              "      <th>min</th>\n",
              "      <td>501.000000</td>\n",
              "      <td>30412.000000</td>\n",
              "      <td>15.090000</td>\n",
              "      <td>5060.000000</td>\n",
              "      <td>1.000000</td>\n",
              "      <td>2.000000</td>\n",
              "      <td>16.000000</td>\n",
              "    </tr>\n",
              "    <tr>\n",
              "      <th>25%</th>\n",
              "      <td>594.750000</td>\n",
              "      <td>53229.000000</td>\n",
              "      <td>24.257500</td>\n",
              "      <td>11951.000000</td>\n",
              "      <td>4.000000</td>\n",
              "      <td>3.000000</td>\n",
              "      <td>2441.250000</td>\n",
              "    </tr>\n",
              "    <tr>\n",
              "      <th>50%</th>\n",
              "      <td>659.000000</td>\n",
              "      <td>77119.500000</td>\n",
              "      <td>33.605000</td>\n",
              "      <td>17796.500000</td>\n",
              "      <td>7.000000</td>\n",
              "      <td>5.000000</td>\n",
              "      <td>5436.000000</td>\n",
              "    </tr>\n",
              "    <tr>\n",
              "      <th>75%</th>\n",
              "      <td>726.000000</td>\n",
              "      <td>99732.500000</td>\n",
              "      <td>40.845000</td>\n",
              "      <td>24122.250000</td>\n",
              "      <td>11.000000</td>\n",
              "      <td>7.000000</td>\n",
              "      <td>7712.250000</td>\n",
              "    </tr>\n",
              "    <tr>\n",
              "      <th>max</th>\n",
              "      <td>797.000000</td>\n",
              "      <td>119930.000000</td>\n",
              "      <td>49.920000</td>\n",
              "      <td>29951.000000</td>\n",
              "      <td>14.000000</td>\n",
              "      <td>9.000000</td>\n",
              "      <td>9956.000000</td>\n",
              "    </tr>\n",
              "  </tbody>\n",
              "</table>\n",
              "</div>\n",
              "    <div class=\"colab-df-buttons\">\n",
              "\n",
              "  <div class=\"colab-df-container\">\n",
              "    <button class=\"colab-df-convert\" onclick=\"convertToInteractive('df-725b1f87-7d6d-4b9b-8a23-9eaa1cc3c86b')\"\n",
              "            title=\"Convert this dataframe to an interactive table.\"\n",
              "            style=\"display:none;\">\n",
              "\n",
              "  <svg xmlns=\"http://www.w3.org/2000/svg\" height=\"24px\" viewBox=\"0 -960 960 960\">\n",
              "    <path d=\"M120-120v-720h720v720H120Zm60-500h600v-160H180v160Zm220 220h160v-160H400v160Zm0 220h160v-160H400v160ZM180-400h160v-160H180v160Zm440 0h160v-160H620v160ZM180-180h160v-160H180v160Zm440 0h160v-160H620v160Z\"/>\n",
              "  </svg>\n",
              "    </button>\n",
              "\n",
              "  <style>\n",
              "    .colab-df-container {\n",
              "      display:flex;\n",
              "      gap: 12px;\n",
              "    }\n",
              "\n",
              "    .colab-df-convert {\n",
              "      background-color: #E8F0FE;\n",
              "      border: none;\n",
              "      border-radius: 50%;\n",
              "      cursor: pointer;\n",
              "      display: none;\n",
              "      fill: #1967D2;\n",
              "      height: 32px;\n",
              "      padding: 0 0 0 0;\n",
              "      width: 32px;\n",
              "    }\n",
              "\n",
              "    .colab-df-convert:hover {\n",
              "      background-color: #E2EBFA;\n",
              "      box-shadow: 0px 1px 2px rgba(60, 64, 67, 0.3), 0px 1px 3px 1px rgba(60, 64, 67, 0.15);\n",
              "      fill: #174EA6;\n",
              "    }\n",
              "\n",
              "    .colab-df-buttons div {\n",
              "      margin-bottom: 4px;\n",
              "    }\n",
              "\n",
              "    [theme=dark] .colab-df-convert {\n",
              "      background-color: #3B4455;\n",
              "      fill: #D2E3FC;\n",
              "    }\n",
              "\n",
              "    [theme=dark] .colab-df-convert:hover {\n",
              "      background-color: #434B5C;\n",
              "      box-shadow: 0px 1px 3px 1px rgba(0, 0, 0, 0.15);\n",
              "      filter: drop-shadow(0px 1px 2px rgba(0, 0, 0, 0.3));\n",
              "      fill: #FFFFFF;\n",
              "    }\n",
              "  </style>\n",
              "\n",
              "    <script>\n",
              "      const buttonEl =\n",
              "        document.querySelector('#df-725b1f87-7d6d-4b9b-8a23-9eaa1cc3c86b button.colab-df-convert');\n",
              "      buttonEl.style.display =\n",
              "        google.colab.kernel.accessAllowed ? 'block' : 'none';\n",
              "\n",
              "      async function convertToInteractive(key) {\n",
              "        const element = document.querySelector('#df-725b1f87-7d6d-4b9b-8a23-9eaa1cc3c86b');\n",
              "        const dataTable =\n",
              "          await google.colab.kernel.invokeFunction('convertToInteractive',\n",
              "                                                    [key], {});\n",
              "        if (!dataTable) return;\n",
              "\n",
              "        const docLinkHtml = 'Like what you see? Visit the ' +\n",
              "          '<a target=\"_blank\" href=https://colab.research.google.com/notebooks/data_table.ipynb>data table notebook</a>'\n",
              "          + ' to learn more about interactive tables.';\n",
              "        element.innerHTML = '';\n",
              "        dataTable['output_type'] = 'display_data';\n",
              "        await google.colab.output.renderOutput(dataTable, element);\n",
              "        const docLink = document.createElement('div');\n",
              "        docLink.innerHTML = docLinkHtml;\n",
              "        element.appendChild(docLink);\n",
              "      }\n",
              "    </script>\n",
              "  </div>\n",
              "\n",
              "\n",
              "<div id=\"df-f866ea3f-8d05-4924-bcf4-6438b0f454b0\">\n",
              "  <button class=\"colab-df-quickchart\" onclick=\"quickchart('df-f866ea3f-8d05-4924-bcf4-6438b0f454b0')\"\n",
              "            title=\"Suggest charts\"\n",
              "            style=\"display:none;\">\n",
              "\n",
              "<svg xmlns=\"http://www.w3.org/2000/svg\" height=\"24px\"viewBox=\"0 0 24 24\"\n",
              "     width=\"24px\">\n",
              "    <g>\n",
              "        <path d=\"M19 3H5c-1.1 0-2 .9-2 2v14c0 1.1.9 2 2 2h14c1.1 0 2-.9 2-2V5c0-1.1-.9-2-2-2zM9 17H7v-7h2v7zm4 0h-2V7h2v10zm4 0h-2v-4h2v4z\"/>\n",
              "    </g>\n",
              "</svg>\n",
              "  </button>\n",
              "\n",
              "<style>\n",
              "  .colab-df-quickchart {\n",
              "      --bg-color: #E8F0FE;\n",
              "      --fill-color: #1967D2;\n",
              "      --hover-bg-color: #E2EBFA;\n",
              "      --hover-fill-color: #174EA6;\n",
              "      --disabled-fill-color: #AAA;\n",
              "      --disabled-bg-color: #DDD;\n",
              "  }\n",
              "\n",
              "  [theme=dark] .colab-df-quickchart {\n",
              "      --bg-color: #3B4455;\n",
              "      --fill-color: #D2E3FC;\n",
              "      --hover-bg-color: #434B5C;\n",
              "      --hover-fill-color: #FFFFFF;\n",
              "      --disabled-bg-color: #3B4455;\n",
              "      --disabled-fill-color: #666;\n",
              "  }\n",
              "\n",
              "  .colab-df-quickchart {\n",
              "    background-color: var(--bg-color);\n",
              "    border: none;\n",
              "    border-radius: 50%;\n",
              "    cursor: pointer;\n",
              "    display: none;\n",
              "    fill: var(--fill-color);\n",
              "    height: 32px;\n",
              "    padding: 0;\n",
              "    width: 32px;\n",
              "  }\n",
              "\n",
              "  .colab-df-quickchart:hover {\n",
              "    background-color: var(--hover-bg-color);\n",
              "    box-shadow: 0 1px 2px rgba(60, 64, 67, 0.3), 0 1px 3px 1px rgba(60, 64, 67, 0.15);\n",
              "    fill: var(--button-hover-fill-color);\n",
              "  }\n",
              "\n",
              "  .colab-df-quickchart-complete:disabled,\n",
              "  .colab-df-quickchart-complete:disabled:hover {\n",
              "    background-color: var(--disabled-bg-color);\n",
              "    fill: var(--disabled-fill-color);\n",
              "    box-shadow: none;\n",
              "  }\n",
              "\n",
              "  .colab-df-spinner {\n",
              "    border: 2px solid var(--fill-color);\n",
              "    border-color: transparent;\n",
              "    border-bottom-color: var(--fill-color);\n",
              "    animation:\n",
              "      spin 1s steps(1) infinite;\n",
              "  }\n",
              "\n",
              "  @keyframes spin {\n",
              "    0% {\n",
              "      border-color: transparent;\n",
              "      border-bottom-color: var(--fill-color);\n",
              "      border-left-color: var(--fill-color);\n",
              "    }\n",
              "    20% {\n",
              "      border-color: transparent;\n",
              "      border-left-color: var(--fill-color);\n",
              "      border-top-color: var(--fill-color);\n",
              "    }\n",
              "    30% {\n",
              "      border-color: transparent;\n",
              "      border-left-color: var(--fill-color);\n",
              "      border-top-color: var(--fill-color);\n",
              "      border-right-color: var(--fill-color);\n",
              "    }\n",
              "    40% {\n",
              "      border-color: transparent;\n",
              "      border-right-color: var(--fill-color);\n",
              "      border-top-color: var(--fill-color);\n",
              "    }\n",
              "    60% {\n",
              "      border-color: transparent;\n",
              "      border-right-color: var(--fill-color);\n",
              "    }\n",
              "    80% {\n",
              "      border-color: transparent;\n",
              "      border-right-color: var(--fill-color);\n",
              "      border-bottom-color: var(--fill-color);\n",
              "    }\n",
              "    90% {\n",
              "      border-color: transparent;\n",
              "      border-bottom-color: var(--fill-color);\n",
              "    }\n",
              "  }\n",
              "</style>\n",
              "\n",
              "  <script>\n",
              "    async function quickchart(key) {\n",
              "      const quickchartButtonEl =\n",
              "        document.querySelector('#' + key + ' button');\n",
              "      quickchartButtonEl.disabled = true;  // To prevent multiple clicks.\n",
              "      quickchartButtonEl.classList.add('colab-df-spinner');\n",
              "      try {\n",
              "        const charts = await google.colab.kernel.invokeFunction(\n",
              "            'suggestCharts', [key], {});\n",
              "      } catch (error) {\n",
              "        console.error('Error during call to suggestCharts:', error);\n",
              "      }\n",
              "      quickchartButtonEl.classList.remove('colab-df-spinner');\n",
              "      quickchartButtonEl.classList.add('colab-df-quickchart-complete');\n",
              "    }\n",
              "    (() => {\n",
              "      let quickchartButtonEl =\n",
              "        document.querySelector('#df-f866ea3f-8d05-4924-bcf4-6438b0f454b0 button');\n",
              "      quickchartButtonEl.style.display =\n",
              "        google.colab.kernel.accessAllowed ? 'block' : 'none';\n",
              "    })();\n",
              "  </script>\n",
              "</div>\n",
              "\n",
              "    </div>\n",
              "  </div>\n"
            ],
            "text/plain": [
              "       Credit_Score         Income   DTI_Ratio   Loan_Amount  \\\n",
              "count    300.000000     300.000000  300.000000    300.000000   \n",
              "mean     654.703333   76509.526667   32.656333  17786.246667   \n",
              "std       83.646025   26931.928381    9.930301   7427.772855   \n",
              "min      501.000000   30412.000000   15.090000   5060.000000   \n",
              "25%      594.750000   53229.000000   24.257500  11951.000000   \n",
              "50%      659.000000   77119.500000   33.605000  17796.500000   \n",
              "75%      726.000000   99732.500000   40.845000  24122.250000   \n",
              "max      797.000000  119930.000000   49.920000  29951.000000   \n",
              "\n",
              "       Employment_Years  Loan_Term_Years  Down_Payment  \n",
              "count        300.000000       300.000000    300.000000  \n",
              "mean           7.426667         5.436667   5158.420000  \n",
              "std            4.037196         2.235168   2947.072293  \n",
              "min            1.000000         2.000000     16.000000  \n",
              "25%            4.000000         3.000000   2441.250000  \n",
              "50%            7.000000         5.000000   5436.000000  \n",
              "75%           11.000000         7.000000   7712.250000  \n",
              "max           14.000000         9.000000   9956.000000  "
            ]
          },
          "execution_count": 10,
          "metadata": {},
          "output_type": "execute_result"
        }
      ],
      "source": [
        "df.describe()"
      ]
    },
    {
      "cell_type": "code",
      "execution_count": 11,
      "metadata": {
        "colab": {
          "base_uri": "https://localhost:8080/",
          "height": 542
        },
        "id": "NBopJ_oAg2i0",
        "outputId": "5bbd9713-2524-4fc8-8132-73c7be5aa6e9"
      },
      "outputs": [
        {
          "data": {
            "text/html": [
              "<html>\n",
              "<head><meta charset=\"utf-8\" /></head>\n",
              "<body>\n",
              "    <div>            <script src=\"https://cdnjs.cloudflare.com/ajax/libs/mathjax/2.7.5/MathJax.js?config=TeX-AMS-MML_SVG\"></script><script type=\"text/javascript\">if (window.MathJax && window.MathJax.Hub && window.MathJax.Hub.Config) {window.MathJax.Hub.Config({SVG: {font: \"STIX-Web\"}});}</script>                <script type=\"text/javascript\">window.PlotlyConfig = {MathJaxConfig: 'local'};</script>\n",
              "        <script charset=\"utf-8\" src=\"https://cdn.plot.ly/plotly-2.35.2.min.js\"></script>                <div id=\"7499e01a-98b0-41c1-be5f-5fdbc1d1115e\" class=\"plotly-graph-div\" style=\"height:525px; width:100%;\"></div>            <script type=\"text/javascript\">                                    window.PLOTLYENV=window.PLOTLYENV || {};                                    if (document.getElementById(\"7499e01a-98b0-41c1-be5f-5fdbc1d1115e\")) {                    Plotly.newPlot(                        \"7499e01a-98b0-41c1-be5f-5fdbc1d1115e\",                        [{\"alignmentgroup\":\"True\",\"bingroup\":\"x\",\"hovertemplate\":\"Income=%{x}\\u003cbr\\u003ecount=%{y}\\u003cextra\\u003e\\u003c\\u002fextra\\u003e\",\"legendgroup\":\"\",\"marker\":{\"color\":\"#636efa\",\"pattern\":{\"shape\":\"\"}},\"name\":\"\",\"offsetgroup\":\"\",\"orientation\":\"v\",\"showlegend\":false,\"x\":[34014,41093,48070,65777,86958,112074,40729,75017,96320,57751,108069,84748,35801,49190,79689,80993,59592,40647,38716,118891,117545,119912,100316,32368,107575,36655,100031,106429,117922,85766,43403,62097,108657,40966,82921,79726,80300,52677,85609,86661,61024,100313,83006,45338,98027,110135,49508,33051,78747,117142,117235,84021,96412,88335,86179,62093,99678,110738,69734,102615,103523,47019,113613,116672,103847,112750,109634,58251,55945,62217,38308,35949,81990,31150,119480,104740,96617,46896,76175,37805,35237,50056,75543,86556,33343,43500,83222,59375,39662,46964,89638,103666,115067,97215,99042,43284,102789,114664,91389,39435,84340,74078,108832,81293,108781,90403,59124,73919,65247,92752,86573,89101,56646,53049,109605,98385,70158,95417,53289,39823,90160,71975,39540,46364,34611,57663,81991,87679,60977,79115,118223,90890,96387,48071,89275,102369,41938,65195,34000,100588,68304,99449,112986,119643,50764,116027,68494,33373,42161,57350,55351,118668,45305,105353,106797,95953,87458,50358,33267,112745,119588,68513,56092,41338,30412,37543,63496,90692,119084,74425,68756,48888,65735,77295,113042,115999,47955,67841,100640,95510,64911,89031,118726,37357,62479,91476,74811,66208,50150,101180,73286,98450,51352,85069,44397,71555,76959,30728,80517,96234,69954,77280,109459,46779,93932,102936,54466,66939,99896,65270,89163,112637,81934,94895,62307,84098,90921,35486,38335,116900,119112,41130,117508,90566,96703,57192,31062,114076,119780,51545,51689,41174,118461,39348,53714,68102,104460,119930,36801,102267,78136,53625,112873,102592,107052,74261,31542,51677,76732,80343,69081,92856,118858,49065,113460,118092,84693,56962,58295,43807,72348,56432,113285,87854,70262,67080,31324,65909,119339,49870,64578,102124,56790,55289,85129,45485,74482,116188,34748,116769,39435,33709,60355,85771,87799,43116,55470,72344,72918,82224,69298,110219,91629,96040,58016,53960,63591,112848,97641,66395],\"xaxis\":\"x\",\"yaxis\":\"y\",\"type\":\"histogram\"}],                        {\"template\":{\"data\":{\"histogram2dcontour\":[{\"type\":\"histogram2dcontour\",\"colorbar\":{\"outlinewidth\":0,\"ticks\":\"\"},\"colorscale\":[[0.0,\"#0d0887\"],[0.1111111111111111,\"#46039f\"],[0.2222222222222222,\"#7201a8\"],[0.3333333333333333,\"#9c179e\"],[0.4444444444444444,\"#bd3786\"],[0.5555555555555556,\"#d8576b\"],[0.6666666666666666,\"#ed7953\"],[0.7777777777777778,\"#fb9f3a\"],[0.8888888888888888,\"#fdca26\"],[1.0,\"#f0f921\"]]}],\"choropleth\":[{\"type\":\"choropleth\",\"colorbar\":{\"outlinewidth\":0,\"ticks\":\"\"}}],\"histogram2d\":[{\"type\":\"histogram2d\",\"colorbar\":{\"outlinewidth\":0,\"ticks\":\"\"},\"colorscale\":[[0.0,\"#0d0887\"],[0.1111111111111111,\"#46039f\"],[0.2222222222222222,\"#7201a8\"],[0.3333333333333333,\"#9c179e\"],[0.4444444444444444,\"#bd3786\"],[0.5555555555555556,\"#d8576b\"],[0.6666666666666666,\"#ed7953\"],[0.7777777777777778,\"#fb9f3a\"],[0.8888888888888888,\"#fdca26\"],[1.0,\"#f0f921\"]]}],\"heatmap\":[{\"type\":\"heatmap\",\"colorbar\":{\"outlinewidth\":0,\"ticks\":\"\"},\"colorscale\":[[0.0,\"#0d0887\"],[0.1111111111111111,\"#46039f\"],[0.2222222222222222,\"#7201a8\"],[0.3333333333333333,\"#9c179e\"],[0.4444444444444444,\"#bd3786\"],[0.5555555555555556,\"#d8576b\"],[0.6666666666666666,\"#ed7953\"],[0.7777777777777778,\"#fb9f3a\"],[0.8888888888888888,\"#fdca26\"],[1.0,\"#f0f921\"]]}],\"heatmapgl\":[{\"type\":\"heatmapgl\",\"colorbar\":{\"outlinewidth\":0,\"ticks\":\"\"},\"colorscale\":[[0.0,\"#0d0887\"],[0.1111111111111111,\"#46039f\"],[0.2222222222222222,\"#7201a8\"],[0.3333333333333333,\"#9c179e\"],[0.4444444444444444,\"#bd3786\"],[0.5555555555555556,\"#d8576b\"],[0.6666666666666666,\"#ed7953\"],[0.7777777777777778,\"#fb9f3a\"],[0.8888888888888888,\"#fdca26\"],[1.0,\"#f0f921\"]]}],\"contourcarpet\":[{\"type\":\"contourcarpet\",\"colorbar\":{\"outlinewidth\":0,\"ticks\":\"\"}}],\"contour\":[{\"type\":\"contour\",\"colorbar\":{\"outlinewidth\":0,\"ticks\":\"\"},\"colorscale\":[[0.0,\"#0d0887\"],[0.1111111111111111,\"#46039f\"],[0.2222222222222222,\"#7201a8\"],[0.3333333333333333,\"#9c179e\"],[0.4444444444444444,\"#bd3786\"],[0.5555555555555556,\"#d8576b\"],[0.6666666666666666,\"#ed7953\"],[0.7777777777777778,\"#fb9f3a\"],[0.8888888888888888,\"#fdca26\"],[1.0,\"#f0f921\"]]}],\"surface\":[{\"type\":\"surface\",\"colorbar\":{\"outlinewidth\":0,\"ticks\":\"\"},\"colorscale\":[[0.0,\"#0d0887\"],[0.1111111111111111,\"#46039f\"],[0.2222222222222222,\"#7201a8\"],[0.3333333333333333,\"#9c179e\"],[0.4444444444444444,\"#bd3786\"],[0.5555555555555556,\"#d8576b\"],[0.6666666666666666,\"#ed7953\"],[0.7777777777777778,\"#fb9f3a\"],[0.8888888888888888,\"#fdca26\"],[1.0,\"#f0f921\"]]}],\"mesh3d\":[{\"type\":\"mesh3d\",\"colorbar\":{\"outlinewidth\":0,\"ticks\":\"\"}}],\"scatter\":[{\"fillpattern\":{\"fillmode\":\"overlay\",\"size\":10,\"solidity\":0.2},\"type\":\"scatter\"}],\"parcoords\":[{\"type\":\"parcoords\",\"line\":{\"colorbar\":{\"outlinewidth\":0,\"ticks\":\"\"}}}],\"scatterpolargl\":[{\"type\":\"scatterpolargl\",\"marker\":{\"colorbar\":{\"outlinewidth\":0,\"ticks\":\"\"}}}],\"bar\":[{\"error_x\":{\"color\":\"#2a3f5f\"},\"error_y\":{\"color\":\"#2a3f5f\"},\"marker\":{\"line\":{\"color\":\"#E5ECF6\",\"width\":0.5},\"pattern\":{\"fillmode\":\"overlay\",\"size\":10,\"solidity\":0.2}},\"type\":\"bar\"}],\"scattergeo\":[{\"type\":\"scattergeo\",\"marker\":{\"colorbar\":{\"outlinewidth\":0,\"ticks\":\"\"}}}],\"scatterpolar\":[{\"type\":\"scatterpolar\",\"marker\":{\"colorbar\":{\"outlinewidth\":0,\"ticks\":\"\"}}}],\"histogram\":[{\"marker\":{\"pattern\":{\"fillmode\":\"overlay\",\"size\":10,\"solidity\":0.2}},\"type\":\"histogram\"}],\"scattergl\":[{\"type\":\"scattergl\",\"marker\":{\"colorbar\":{\"outlinewidth\":0,\"ticks\":\"\"}}}],\"scatter3d\":[{\"type\":\"scatter3d\",\"line\":{\"colorbar\":{\"outlinewidth\":0,\"ticks\":\"\"}},\"marker\":{\"colorbar\":{\"outlinewidth\":0,\"ticks\":\"\"}}}],\"scattermapbox\":[{\"type\":\"scattermapbox\",\"marker\":{\"colorbar\":{\"outlinewidth\":0,\"ticks\":\"\"}}}],\"scatterternary\":[{\"type\":\"scatterternary\",\"marker\":{\"colorbar\":{\"outlinewidth\":0,\"ticks\":\"\"}}}],\"scattercarpet\":[{\"type\":\"scattercarpet\",\"marker\":{\"colorbar\":{\"outlinewidth\":0,\"ticks\":\"\"}}}],\"carpet\":[{\"aaxis\":{\"endlinecolor\":\"#2a3f5f\",\"gridcolor\":\"white\",\"linecolor\":\"white\",\"minorgridcolor\":\"white\",\"startlinecolor\":\"#2a3f5f\"},\"baxis\":{\"endlinecolor\":\"#2a3f5f\",\"gridcolor\":\"white\",\"linecolor\":\"white\",\"minorgridcolor\":\"white\",\"startlinecolor\":\"#2a3f5f\"},\"type\":\"carpet\"}],\"table\":[{\"cells\":{\"fill\":{\"color\":\"#EBF0F8\"},\"line\":{\"color\":\"white\"}},\"header\":{\"fill\":{\"color\":\"#C8D4E3\"},\"line\":{\"color\":\"white\"}},\"type\":\"table\"}],\"barpolar\":[{\"marker\":{\"line\":{\"color\":\"#E5ECF6\",\"width\":0.5},\"pattern\":{\"fillmode\":\"overlay\",\"size\":10,\"solidity\":0.2}},\"type\":\"barpolar\"}],\"pie\":[{\"automargin\":true,\"type\":\"pie\"}]},\"layout\":{\"autotypenumbers\":\"strict\",\"colorway\":[\"#636efa\",\"#EF553B\",\"#00cc96\",\"#ab63fa\",\"#FFA15A\",\"#19d3f3\",\"#FF6692\",\"#B6E880\",\"#FF97FF\",\"#FECB52\"],\"font\":{\"color\":\"#2a3f5f\"},\"hovermode\":\"closest\",\"hoverlabel\":{\"align\":\"left\"},\"paper_bgcolor\":\"white\",\"plot_bgcolor\":\"#E5ECF6\",\"polar\":{\"bgcolor\":\"#E5ECF6\",\"angularaxis\":{\"gridcolor\":\"white\",\"linecolor\":\"white\",\"ticks\":\"\"},\"radialaxis\":{\"gridcolor\":\"white\",\"linecolor\":\"white\",\"ticks\":\"\"}},\"ternary\":{\"bgcolor\":\"#E5ECF6\",\"aaxis\":{\"gridcolor\":\"white\",\"linecolor\":\"white\",\"ticks\":\"\"},\"baxis\":{\"gridcolor\":\"white\",\"linecolor\":\"white\",\"ticks\":\"\"},\"caxis\":{\"gridcolor\":\"white\",\"linecolor\":\"white\",\"ticks\":\"\"}},\"coloraxis\":{\"colorbar\":{\"outlinewidth\":0,\"ticks\":\"\"}},\"colorscale\":{\"sequential\":[[0.0,\"#0d0887\"],[0.1111111111111111,\"#46039f\"],[0.2222222222222222,\"#7201a8\"],[0.3333333333333333,\"#9c179e\"],[0.4444444444444444,\"#bd3786\"],[0.5555555555555556,\"#d8576b\"],[0.6666666666666666,\"#ed7953\"],[0.7777777777777778,\"#fb9f3a\"],[0.8888888888888888,\"#fdca26\"],[1.0,\"#f0f921\"]],\"sequentialminus\":[[0.0,\"#0d0887\"],[0.1111111111111111,\"#46039f\"],[0.2222222222222222,\"#7201a8\"],[0.3333333333333333,\"#9c179e\"],[0.4444444444444444,\"#bd3786\"],[0.5555555555555556,\"#d8576b\"],[0.6666666666666666,\"#ed7953\"],[0.7777777777777778,\"#fb9f3a\"],[0.8888888888888888,\"#fdca26\"],[1.0,\"#f0f921\"]],\"diverging\":[[0,\"#8e0152\"],[0.1,\"#c51b7d\"],[0.2,\"#de77ae\"],[0.3,\"#f1b6da\"],[0.4,\"#fde0ef\"],[0.5,\"#f7f7f7\"],[0.6,\"#e6f5d0\"],[0.7,\"#b8e186\"],[0.8,\"#7fbc41\"],[0.9,\"#4d9221\"],[1,\"#276419\"]]},\"xaxis\":{\"gridcolor\":\"white\",\"linecolor\":\"white\",\"ticks\":\"\",\"title\":{\"standoff\":15},\"zerolinecolor\":\"white\",\"automargin\":true,\"zerolinewidth\":2},\"yaxis\":{\"gridcolor\":\"white\",\"linecolor\":\"white\",\"ticks\":\"\",\"title\":{\"standoff\":15},\"zerolinecolor\":\"white\",\"automargin\":true,\"zerolinewidth\":2},\"scene\":{\"xaxis\":{\"backgroundcolor\":\"#E5ECF6\",\"gridcolor\":\"white\",\"linecolor\":\"white\",\"showbackground\":true,\"ticks\":\"\",\"zerolinecolor\":\"white\",\"gridwidth\":2},\"yaxis\":{\"backgroundcolor\":\"#E5ECF6\",\"gridcolor\":\"white\",\"linecolor\":\"white\",\"showbackground\":true,\"ticks\":\"\",\"zerolinecolor\":\"white\",\"gridwidth\":2},\"zaxis\":{\"backgroundcolor\":\"#E5ECF6\",\"gridcolor\":\"white\",\"linecolor\":\"white\",\"showbackground\":true,\"ticks\":\"\",\"zerolinecolor\":\"white\",\"gridwidth\":2}},\"shapedefaults\":{\"line\":{\"color\":\"#2a3f5f\"}},\"annotationdefaults\":{\"arrowcolor\":\"#2a3f5f\",\"arrowhead\":0,\"arrowwidth\":1},\"geo\":{\"bgcolor\":\"white\",\"landcolor\":\"#E5ECF6\",\"subunitcolor\":\"white\",\"showland\":true,\"showlakes\":true,\"lakecolor\":\"white\"},\"title\":{\"x\":0.05},\"mapbox\":{\"style\":\"light\"}}},\"xaxis\":{\"anchor\":\"y\",\"domain\":[0.0,1.0],\"title\":{\"text\":\"Income\"}},\"yaxis\":{\"anchor\":\"x\",\"domain\":[0.0,1.0],\"title\":{\"text\":\"count\"}},\"legend\":{\"tracegroupgap\":0},\"title\":{\"text\":\"Applicant Income Distribution\"},\"barmode\":\"relative\"},                        {\"responsive\": true}                    ).then(function(){\n",
              "                            \n",
              "var gd = document.getElementById('7499e01a-98b0-41c1-be5f-5fdbc1d1115e');\n",
              "var x = new MutationObserver(function (mutations, observer) {{\n",
              "        var display = window.getComputedStyle(gd).display;\n",
              "        if (!display || display === 'none') {{\n",
              "            console.log([gd, 'removed!']);\n",
              "            Plotly.purge(gd);\n",
              "            observer.disconnect();\n",
              "        }}\n",
              "}});\n",
              "\n",
              "// Listen for the removal of the full notebook cells\n",
              "var notebookContainer = gd.closest('#notebook-container');\n",
              "if (notebookContainer) {{\n",
              "    x.observe(notebookContainer, {childList: true});\n",
              "}}\n",
              "\n",
              "// Listen for the clearing of the current output cell\n",
              "var outputEl = gd.closest('.output');\n",
              "if (outputEl) {{\n",
              "    x.observe(outputEl, {childList: true});\n",
              "}}\n",
              "\n",
              "                        })                };                            </script>        </div>\n",
              "</body>\n",
              "</html>"
            ]
          },
          "metadata": {},
          "output_type": "display_data"
        }
      ],
      "source": [
        "fig_applicant_income = px.histogram(df, x='Income',\n",
        "                                    title='Applicant Income Distribution')\n",
        "fig_applicant_income.show()"
      ]
    },
    {
      "cell_type": "code",
      "execution_count": 12,
      "metadata": {
        "colab": {
          "base_uri": "https://localhost:8080/",
          "height": 829
        },
        "id": "Cdu9Af6pitiI",
        "outputId": "cf367c05-9b0b-45ce-8808-72f4bf1bc553"
      },
      "outputs": [
        {
          "data": {
            "image/png": "[encoded data removed]",
            "text/plain": [
              "<Figure size 1200x800 with 2 Axes>"
            ]
          },
          "metadata": {},
          "output_type": "display_data"
        }
      ],
      "source": [
        "import pandas as pd\n",
        "import seaborn as sns\n",
        "import matplotlib.pyplot as plt\n",
        "\n",
        "# Create bins for Credit Score and Income\n",
        "credit_bins = pd.cut(df['Credit_Score'], bins=[500, 600, 650, 700, 750, 800])\n",
        "income_bins = pd.cut(df['Income'], bins=[30000, 40000, 50000, 60000, 70000, 80000, 90000, 100000, 110000, 120000])\n",
        "\n",
        "# Create a pivot table to aggregate the binned data\n",
        "heatmap_data = df.groupby([credit_bins, income_bins]).size().unstack(fill_value=0)\n",
        "\n",
        "# Create the heatmap\n",
        "plt.figure(figsize=(12, 8))\n",
        "sns.heatmap(heatmap_data, cmap='YlGnBu', annot=True, fmt='d')\n",
        "\n",
        "# Add titles and labels\n",
        "plt.title('Heatmap of Binned Credit Score vs Income')\n",
        "plt.xlabel('Income Bins')\n",
        "plt.ylabel('Credit Score Bins')\n",
        "plt.show()\n"
      ]
    },
    {
      "cell_type": "code",
      "execution_count": 13,
      "metadata": {
        "colab": {
          "base_uri": "https://localhost:8080/",
          "height": 487
        },
        "id": "F9gZcPSrhxmN",
        "outputId": "3093a178-fbcb-448c-d157-03c63676901d"
      },
      "outputs": [
        {
          "data": {
            "image/png": "[encoded data removed]",
            "text/plain": [
              "<Figure size 1000x500 with 1 Axes>"
            ]
          },
          "metadata": {},
          "output_type": "display_data"
        }
      ],
      "source": [
        "df['Loan_Amount'] = pd.to_numeric(df['Loan_Amount'], errors='coerce')\n",
        "plt.figure(figsize=(10,5))\n",
        "sns.histplot(data=df, x='Loan_Amount', bins=20, kde=True)\n",
        "plt.xlabel('Loan Amount')\n",
        "plt.ylabel('Frequency')\n",
        "plt.title('LoanAmount Distribution')\n",
        "plt.show()"
      ]
    },
    {
      "cell_type": "code",
      "execution_count": 14,
      "metadata": {
        "colab": {
          "base_uri": "https://localhost:8080/",
          "height": 564
        },
        "id": "52D77GnQh8BV",
        "outputId": "569f125f-aaf9-498c-ebb0-fe29fa49edad"
      },
      "outputs": [
        {
          "data": {
            "image/png": "[encoded data removed]",
            "text/plain": [
              "<Figure size 1000x600 with 1 Axes>"
            ]
          },
          "metadata": {},
          "output_type": "display_data"
        }
      ],
      "source": [
        "\n",
        "plt.figure(figsize=(10, 6))\n",
        "sns.scatterplot(data=df, x='Income', y='Loan_Amount')\n",
        "plt.xlabel('Applicant Income')\n",
        "plt.ylabel('Loan Amount')\n",
        "plt.title('Scatter Plot: Applicant Income vs. Loan Amount')\n",
        "plt.show()"
      ]
    },
    {
      "cell_type": "code",
      "execution_count": 15,
      "metadata": {
        "colab": {
          "base_uri": "https://localhost:8080/",
          "height": 564
        },
        "id": "LGiCHkM0iGYQ",
        "outputId": "e19d6639-dae1-4abe-c735-37ecc981cfad"
      },
      "outputs": [
        {
          "data": {
            "image/png": "[encoded data removed]",
            "text/plain": [
              "<Figure size 1000x600 with 1 Axes>"
            ]
          },
          "metadata": {},
          "output_type": "display_data"
        }
      ],
      "source": [
        "plt.figure(figsize=(10, 6))\n",
        "sns.boxplot(data=df, x='Citizenship', y='Income')\n",
        "plt.ylabel('Applicant Income')\n",
        "plt.xlabel('Citizenship')\n",
        "plt.title('Box Plot: Applicant Income vs. Citizenship')\n",
        "plt.show()"
      ]
    },
    {
      "cell_type": "code",
      "execution_count": 16,
      "metadata": {
        "colab": {
          "base_uri": "https://localhost:8080/",
          "height": 542
        },
        "id": "vHeqTBFFijKt",
        "outputId": "e6dfa378-0835-4858-932d-48b38f504686"
      },
      "outputs": [
        {
          "data": {
            "text/html": [
              "<html>\n",
              "<head><meta charset=\"utf-8\" /></head>\n",
              "<body>\n",
              "    <div>            <script src=\"https://cdnjs.cloudflare.com/ajax/libs/mathjax/2.7.5/MathJax.js?config=TeX-AMS-MML_SVG\"></script><script type=\"text/javascript\">if (window.MathJax && window.MathJax.Hub && window.MathJax.Hub.Config) {window.MathJax.Hub.Config({SVG: {font: \"STIX-Web\"}});}</script>                <script type=\"text/javascript\">window.PlotlyConfig = {MathJaxConfig: 'local'};</script>\n",
              "        <script charset=\"utf-8\" src=\"https://cdn.plot.ly/plotly-2.35.2.min.js\"></script>                <div id=\"a552aa3a-932c-4739-b4e9-f681ac73f244\" class=\"plotly-graph-div\" style=\"height:525px; width:100%;\"></div>            <script type=\"text/javascript\">                                    window.PLOTLYENV=window.PLOTLYENV || {};                                    if (document.getElementById(\"a552aa3a-932c-4739-b4e9-f681ac73f244\")) {                    Plotly.newPlot(                        \"a552aa3a-932c-4739-b4e9-f681ac73f244\",                        [{\"alignmentgroup\":\"True\",\"hovertemplate\":\"Loan_Approved=%{x}\\u003cbr\\u003eIncome=%{y}\\u003cextra\\u003e\\u003c\\u002fextra\\u003e\",\"legendgroup\":\"No\",\"marker\":{\"color\":\"#636efa\"},\"name\":\"No\",\"notched\":false,\"offsetgroup\":\"No\",\"orientation\":\"v\",\"showlegend\":true,\"x\":[\"No\",\"No\",\"No\",\"No\",\"No\",\"No\",\"No\",\"No\",\"No\",\"No\",\"No\",\"No\",\"No\",\"No\",\"No\",\"No\",\"No\",\"No\",\"No\",\"No\",\"No\",\"No\",\"No\",\"No\",\"No\",\"No\",\"No\",\"No\",\"No\",\"No\",\"No\",\"No\",\"No\",\"No\",\"No\",\"No\",\"No\",\"No\",\"No\",\"No\",\"No\",\"No\",\"No\",\"No\",\"No\",\"No\",\"No\",\"No\",\"No\",\"No\",\"No\",\"No\",\"No\",\"No\",\"No\",\"No\",\"No\",\"No\",\"No\",\"No\",\"No\",\"No\",\"No\",\"No\",\"No\",\"No\",\"No\",\"No\",\"No\",\"No\",\"No\",\"No\",\"No\",\"No\",\"No\",\"No\",\"No\",\"No\",\"No\",\"No\",\"No\",\"No\",\"No\",\"No\",\"No\",\"No\",\"No\",\"No\",\"No\",\"No\",\"No\",\"No\",\"No\",\"No\",\"No\",\"No\",\"No\",\"No\",\"No\",\"No\",\"No\",\"No\",\"No\",\"No\",\"No\",\"No\",\"No\",\"No\",\"No\",\"No\",\"No\",\"No\",\"No\",\"No\",\"No\",\"No\",\"No\",\"No\",\"No\",\"No\",\"No\",\"No\",\"No\",\"No\",\"No\",\"No\",\"No\",\"No\"],\"x0\":\" \",\"xaxis\":\"x\",\"y\":[34014,48070,65777,86958,112074,57751,108069,35801,59592,40647,118891,100316,32368,85766,43403,40966,82921,52677,85609,61024,100313,83006,98027,49508,33051,78747,117142,86179,113613,109634,35949,81990,31150,119480,104740,46896,76175,35237,75543,33343,43500,83222,89638,103666,115067,97215,43284,91389,74078,81293,65247,92752,89101,109605,98385,71975,39540,46364,34611,81991,87679,79115,90890,96387,102369,41938,65195,33373,57350,55351,45305,87458,119588,30412,63496,74425,48888,65735,47955,67841,66208,101180,51352,85069,30728,93932,102936,54466,99896,65270,89163,62307,84098,38335,116900,119112,117508,114076,119780,41174,119930,107052,76732,80343,69081,118858,118092,56962,43807,72348,87854,70262,65909,119339,49870,64578,102124,45485,74482,116188,116769,60355,85771,43116,82224,110219,58016,53960],\"y0\":\" \",\"yaxis\":\"y\",\"type\":\"box\"},{\"alignmentgroup\":\"True\",\"hovertemplate\":\"Loan_Approved=%{x}\\u003cbr\\u003eIncome=%{y}\\u003cextra\\u003e\\u003c\\u002fextra\\u003e\",\"legendgroup\":\"Yes\",\"marker\":{\"color\":\"#EF553B\"},\"name\":\"Yes\",\"notched\":false,\"offsetgroup\":\"Yes\",\"orientation\":\"v\",\"showlegend\":true,\"x\":[\"Yes\",\"Yes\",\"Yes\",\"Yes\",\"Yes\",\"Yes\",\"Yes\",\"Yes\",\"Yes\",\"Yes\",\"Yes\",\"Yes\",\"Yes\",\"Yes\",\"Yes\",\"Yes\",\"Yes\",\"Yes\",\"Yes\",\"Yes\",\"Yes\",\"Yes\",\"Yes\",\"Yes\",\"Yes\",\"Yes\",\"Yes\",\"Yes\",\"Yes\",\"Yes\",\"Yes\",\"Yes\",\"Yes\",\"Yes\",\"Yes\",\"Yes\",\"Yes\",\"Yes\",\"Yes\",\"Yes\",\"Yes\",\"Yes\",\"Yes\",\"Yes\",\"Yes\",\"Yes\",\"Yes\",\"Yes\",\"Yes\",\"Yes\",\"Yes\",\"Yes\",\"Yes\",\"Yes\",\"Yes\",\"Yes\",\"Yes\",\"Yes\",\"Yes\",\"Yes\",\"Yes\",\"Yes\",\"Yes\",\"Yes\",\"Yes\",\"Yes\",\"Yes\",\"Yes\",\"Yes\",\"Yes\",\"Yes\",\"Yes\",\"Yes\",\"Yes\",\"Yes\",\"Yes\",\"Yes\",\"Yes\",\"Yes\",\"Yes\",\"Yes\",\"Yes\",\"Yes\",\"Yes\",\"Yes\",\"Yes\",\"Yes\",\"Yes\",\"Yes\",\"Yes\",\"Yes\",\"Yes\",\"Yes\",\"Yes\",\"Yes\",\"Yes\",\"Yes\",\"Yes\",\"Yes\",\"Yes\",\"Yes\",\"Yes\",\"Yes\",\"Yes\",\"Yes\",\"Yes\",\"Yes\",\"Yes\",\"Yes\",\"Yes\",\"Yes\",\"Yes\",\"Yes\",\"Yes\",\"Yes\",\"Yes\",\"Yes\",\"Yes\",\"Yes\",\"Yes\",\"Yes\",\"Yes\",\"Yes\",\"Yes\",\"Yes\",\"Yes\",\"Yes\",\"Yes\",\"Yes\",\"Yes\",\"Yes\",\"Yes\",\"Yes\",\"Yes\",\"Yes\",\"Yes\",\"Yes\",\"Yes\",\"Yes\",\"Yes\",\"Yes\",\"Yes\",\"Yes\",\"Yes\",\"Yes\",\"Yes\",\"Yes\",\"Yes\",\"Yes\",\"Yes\",\"Yes\",\"Yes\",\"Yes\",\"Yes\",\"Yes\",\"Yes\",\"Yes\",\"Yes\",\"Yes\",\"Yes\",\"Yes\",\"Yes\",\"Yes\",\"Yes\",\"Yes\",\"Yes\",\"Yes\",\"Yes\",\"Yes\",\"Yes\",\"Yes\",\"Yes\"],\"x0\":\" \",\"xaxis\":\"x\",\"y\":[41093,40729,75017,96320,84748,49190,79689,80993,38716,117545,119912,107575,36655,100031,106429,117922,62097,108657,79726,80300,86661,45338,110135,117235,84021,96412,88335,62093,99678,110738,69734,102615,103523,47019,116672,103847,112750,58251,55945,62217,38308,96617,37805,50056,86556,59375,39662,46964,99042,102789,114664,39435,84340,108832,108781,90403,59124,73919,86573,56646,53049,70158,95417,53289,39823,90160,57663,60977,118223,48071,89275,34000,100588,68304,99449,112986,119643,50764,116027,68494,42161,118668,105353,106797,95953,50358,33267,112745,68513,56092,41338,37543,90692,119084,68756,77295,113042,115999,100640,95510,64911,89031,118726,37357,62479,91476,74811,50150,73286,98450,44397,71555,76959,80517,96234,69954,77280,109459,46779,66939,112637,81934,94895,90921,35486,41130,90566,96703,57192,31062,51545,51689,118461,39348,53714,68102,104460,36801,102267,78136,53625,112873,102592,74261,31542,51677,92856,49065,113460,84693,58295,56432,113285,67080,31324,56790,55289,85129,34748,39435,33709,87799,55470,72344,72918,69298,91629,96040,63591,112848,97641,66395],\"y0\":\" \",\"yaxis\":\"y\",\"type\":\"box\"}],                        {\"template\":{\"data\":{\"histogram2dcontour\":[{\"type\":\"histogram2dcontour\",\"colorbar\":{\"outlinewidth\":0,\"ticks\":\"\"},\"colorscale\":[[0.0,\"#0d0887\"],[0.1111111111111111,\"#46039f\"],[0.2222222222222222,\"#7201a8\"],[0.3333333333333333,\"#9c179e\"],[0.4444444444444444,\"#bd3786\"],[0.5555555555555556,\"#d8576b\"],[0.6666666666666666,\"#ed7953\"],[0.7777777777777778,\"#fb9f3a\"],[0.8888888888888888,\"#fdca26\"],[1.0,\"#f0f921\"]]}],\"choropleth\":[{\"type\":\"choropleth\",\"colorbar\":{\"outlinewidth\":0,\"ticks\":\"\"}}],\"histogram2d\":[{\"type\":\"histogram2d\",\"colorbar\":{\"outlinewidth\":0,\"ticks\":\"\"},\"colorscale\":[[0.0,\"#0d0887\"],[0.1111111111111111,\"#46039f\"],[0.2222222222222222,\"#7201a8\"],[0.3333333333333333,\"#9c179e\"],[0.4444444444444444,\"#bd3786\"],[0.5555555555555556,\"#d8576b\"],[0.6666666666666666,\"#ed7953\"],[0.7777777777777778,\"#fb9f3a\"],[0.8888888888888888,\"#fdca26\"],[1.0,\"#f0f921\"]]}],\"heatmap\":[{\"type\":\"heatmap\",\"colorbar\":{\"outlinewidth\":0,\"ticks\":\"\"},\"colorscale\":[[0.0,\"#0d0887\"],[0.1111111111111111,\"#46039f\"],[0.2222222222222222,\"#7201a8\"],[0.3333333333333333,\"#9c179e\"],[0.4444444444444444,\"#bd3786\"],[0.5555555555555556,\"#d8576b\"],[0.6666666666666666,\"#ed7953\"],[0.7777777777777778,\"#fb9f3a\"],[0.8888888888888888,\"#fdca26\"],[1.0,\"#f0f921\"]]}],\"heatmapgl\":[{\"type\":\"heatmapgl\",\"colorbar\":{\"outlinewidth\":0,\"ticks\":\"\"},\"colorscale\":[[0.0,\"#0d0887\"],[0.1111111111111111,\"#46039f\"],[0.2222222222222222,\"#7201a8\"],[0.3333333333333333,\"#9c179e\"],[0.4444444444444444,\"#bd3786\"],[0.5555555555555556,\"#d8576b\"],[0.6666666666666666,\"#ed7953\"],[0.7777777777777778,\"#fb9f3a\"],[0.8888888888888888,\"#fdca26\"],[1.0,\"#f0f921\"]]}],\"contourcarpet\":[{\"type\":\"contourcarpet\",\"colorbar\":{\"outlinewidth\":0,\"ticks\":\"\"}}],\"contour\":[{\"type\":\"contour\",\"colorbar\":{\"outlinewidth\":0,\"ticks\":\"\"},\"colorscale\":[[0.0,\"#0d0887\"],[0.1111111111111111,\"#46039f\"],[0.2222222222222222,\"#7201a8\"],[0.3333333333333333,\"#9c179e\"],[0.4444444444444444,\"#bd3786\"],[0.5555555555555556,\"#d8576b\"],[0.6666666666666666,\"#ed7953\"],[0.7777777777777778,\"#fb9f3a\"],[0.8888888888888888,\"#fdca26\"],[1.0,\"#f0f921\"]]}],\"surface\":[{\"type\":\"surface\",\"colorbar\":{\"outlinewidth\":0,\"ticks\":\"\"},\"colorscale\":[[0.0,\"#0d0887\"],[0.1111111111111111,\"#46039f\"],[0.2222222222222222,\"#7201a8\"],[0.3333333333333333,\"#9c179e\"],[0.4444444444444444,\"#bd3786\"],[0.5555555555555556,\"#d8576b\"],[0.6666666666666666,\"#ed7953\"],[0.7777777777777778,\"#fb9f3a\"],[0.8888888888888888,\"#fdca26\"],[1.0,\"#f0f921\"]]}],\"mesh3d\":[{\"type\":\"mesh3d\",\"colorbar\":{\"outlinewidth\":0,\"ticks\":\"\"}}],\"scatter\":[{\"fillpattern\":{\"fillmode\":\"overlay\",\"size\":10,\"solidity\":0.2},\"type\":\"scatter\"}],\"parcoords\":[{\"type\":\"parcoords\",\"line\":{\"colorbar\":{\"outlinewidth\":0,\"ticks\":\"\"}}}],\"scatterpolargl\":[{\"type\":\"scatterpolargl\",\"marker\":{\"colorbar\":{\"outlinewidth\":0,\"ticks\":\"\"}}}],\"bar\":[{\"error_x\":{\"color\":\"#2a3f5f\"},\"error_y\":{\"color\":\"#2a3f5f\"},\"marker\":{\"line\":{\"color\":\"#E5ECF6\",\"width\":0.5},\"pattern\":{\"fillmode\":\"overlay\",\"size\":10,\"solidity\":0.2}},\"type\":\"bar\"}],\"scattergeo\":[{\"type\":\"scattergeo\",\"marker\":{\"colorbar\":{\"outlinewidth\":0,\"ticks\":\"\"}}}],\"scatterpolar\":[{\"type\":\"scatterpolar\",\"marker\":{\"colorbar\":{\"outlinewidth\":0,\"ticks\":\"\"}}}],\"histogram\":[{\"marker\":{\"pattern\":{\"fillmode\":\"overlay\",\"size\":10,\"solidity\":0.2}},\"type\":\"histogram\"}],\"scattergl\":[{\"type\":\"scattergl\",\"marker\":{\"colorbar\":{\"outlinewidth\":0,\"ticks\":\"\"}}}],\"scatter3d\":[{\"type\":\"scatter3d\",\"line\":{\"colorbar\":{\"outlinewidth\":0,\"ticks\":\"\"}},\"marker\":{\"colorbar\":{\"outlinewidth\":0,\"ticks\":\"\"}}}],\"scattermapbox\":[{\"type\":\"scattermapbox\",\"marker\":{\"colorbar\":{\"outlinewidth\":0,\"ticks\":\"\"}}}],\"scatterternary\":[{\"type\":\"scatterternary\",\"marker\":{\"colorbar\":{\"outlinewidth\":0,\"ticks\":\"\"}}}],\"scattercarpet\":[{\"type\":\"scattercarpet\",\"marker\":{\"colorbar\":{\"outlinewidth\":0,\"ticks\":\"\"}}}],\"carpet\":[{\"aaxis\":{\"endlinecolor\":\"#2a3f5f\",\"gridcolor\":\"white\",\"linecolor\":\"white\",\"minorgridcolor\":\"white\",\"startlinecolor\":\"#2a3f5f\"},\"baxis\":{\"endlinecolor\":\"#2a3f5f\",\"gridcolor\":\"white\",\"linecolor\":\"white\",\"minorgridcolor\":\"white\",\"startlinecolor\":\"#2a3f5f\"},\"type\":\"carpet\"}],\"table\":[{\"cells\":{\"fill\":{\"color\":\"#EBF0F8\"},\"line\":{\"color\":\"white\"}},\"header\":{\"fill\":{\"color\":\"#C8D4E3\"},\"line\":{\"color\":\"white\"}},\"type\":\"table\"}],\"barpolar\":[{\"marker\":{\"line\":{\"color\":\"#E5ECF6\",\"width\":0.5},\"pattern\":{\"fillmode\":\"overlay\",\"size\":10,\"solidity\":0.2}},\"type\":\"barpolar\"}],\"pie\":[{\"automargin\":true,\"type\":\"pie\"}]},\"layout\":{\"autotypenumbers\":\"strict\",\"colorway\":[\"#636efa\",\"#EF553B\",\"#00cc96\",\"#ab63fa\",\"#FFA15A\",\"#19d3f3\",\"#FF6692\",\"#B6E880\",\"#FF97FF\",\"#FECB52\"],\"font\":{\"color\":\"#2a3f5f\"},\"hovermode\":\"closest\",\"hoverlabel\":{\"align\":\"left\"},\"paper_bgcolor\":\"white\",\"plot_bgcolor\":\"#E5ECF6\",\"polar\":{\"bgcolor\":\"#E5ECF6\",\"angularaxis\":{\"gridcolor\":\"white\",\"linecolor\":\"white\",\"ticks\":\"\"},\"radialaxis\":{\"gridcolor\":\"white\",\"linecolor\":\"white\",\"ticks\":\"\"}},\"ternary\":{\"bgcolor\":\"#E5ECF6\",\"aaxis\":{\"gridcolor\":\"white\",\"linecolor\":\"white\",\"ticks\":\"\"},\"baxis\":{\"gridcolor\":\"white\",\"linecolor\":\"white\",\"ticks\":\"\"},\"caxis\":{\"gridcolor\":\"white\",\"linecolor\":\"white\",\"ticks\":\"\"}},\"coloraxis\":{\"colorbar\":{\"outlinewidth\":0,\"ticks\":\"\"}},\"colorscale\":{\"sequential\":[[0.0,\"#0d0887\"],[0.1111111111111111,\"#46039f\"],[0.2222222222222222,\"#7201a8\"],[0.3333333333333333,\"#9c179e\"],[0.4444444444444444,\"#bd3786\"],[0.5555555555555556,\"#d8576b\"],[0.6666666666666666,\"#ed7953\"],[0.7777777777777778,\"#fb9f3a\"],[0.8888888888888888,\"#fdca26\"],[1.0,\"#f0f921\"]],\"sequentialminus\":[[0.0,\"#0d0887\"],[0.1111111111111111,\"#46039f\"],[0.2222222222222222,\"#7201a8\"],[0.3333333333333333,\"#9c179e\"],[0.4444444444444444,\"#bd3786\"],[0.5555555555555556,\"#d8576b\"],[0.6666666666666666,\"#ed7953\"],[0.7777777777777778,\"#fb9f3a\"],[0.8888888888888888,\"#fdca26\"],[1.0,\"#f0f921\"]],\"diverging\":[[0,\"#8e0152\"],[0.1,\"#c51b7d\"],[0.2,\"#de77ae\"],[0.3,\"#f1b6da\"],[0.4,\"#fde0ef\"],[0.5,\"#f7f7f7\"],[0.6,\"#e6f5d0\"],[0.7,\"#b8e186\"],[0.8,\"#7fbc41\"],[0.9,\"#4d9221\"],[1,\"#276419\"]]},\"xaxis\":{\"gridcolor\":\"white\",\"linecolor\":\"white\",\"ticks\":\"\",\"title\":{\"standoff\":15},\"zerolinecolor\":\"white\",\"automargin\":true,\"zerolinewidth\":2},\"yaxis\":{\"gridcolor\":\"white\",\"linecolor\":\"white\",\"ticks\":\"\",\"title\":{\"standoff\":15},\"zerolinecolor\":\"white\",\"automargin\":true,\"zerolinewidth\":2},\"scene\":{\"xaxis\":{\"backgroundcolor\":\"#E5ECF6\",\"gridcolor\":\"white\",\"linecolor\":\"white\",\"showbackground\":true,\"ticks\":\"\",\"zerolinecolor\":\"white\",\"gridwidth\":2},\"yaxis\":{\"backgroundcolor\":\"#E5ECF6\",\"gridcolor\":\"white\",\"linecolor\":\"white\",\"showbackground\":true,\"ticks\":\"\",\"zerolinecolor\":\"white\",\"gridwidth\":2},\"zaxis\":{\"backgroundcolor\":\"#E5ECF6\",\"gridcolor\":\"white\",\"linecolor\":\"white\",\"showbackground\":true,\"ticks\":\"\",\"zerolinecolor\":\"white\",\"gridwidth\":2}},\"shapedefaults\":{\"line\":{\"color\":\"#2a3f5f\"}},\"annotationdefaults\":{\"arrowcolor\":\"#2a3f5f\",\"arrowhead\":0,\"arrowwidth\":1},\"geo\":{\"bgcolor\":\"white\",\"landcolor\":\"#E5ECF6\",\"subunitcolor\":\"white\",\"showland\":true,\"showlakes\":true,\"lakecolor\":\"white\"},\"title\":{\"x\":0.05},\"mapbox\":{\"style\":\"light\"}}},\"xaxis\":{\"anchor\":\"y\",\"domain\":[0.0,1.0],\"title\":{\"text\":\"Loan_Approved\"},\"categoryorder\":\"array\",\"categoryarray\":[\"No\",\"Yes\"]},\"yaxis\":{\"anchor\":\"x\",\"domain\":[0.0,1.0],\"title\":{\"text\":\"Income\"}},\"legend\":{\"title\":{\"text\":\"Loan_Approved\"},\"tracegroupgap\":0},\"title\":{\"text\":\"Loan_Status vs ApplicantIncome\"},\"boxmode\":\"overlay\"},                        {\"responsive\": true}                    ).then(function(){\n",
              "                            \n",
              "var gd = document.getElementById('a552aa3a-932c-4739-b4e9-f681ac73f244');\n",
              "var x = new MutationObserver(function (mutations, observer) {{\n",
              "        var display = window.getComputedStyle(gd).display;\n",
              "        if (!display || display === 'none') {{\n",
              "            console.log([gd, 'removed!']);\n",
              "            Plotly.purge(gd);\n",
              "            observer.disconnect();\n",
              "        }}\n",
              "}});\n",
              "\n",
              "// Listen for the removal of the full notebook cells\n",
              "var notebookContainer = gd.closest('#notebook-container');\n",
              "if (notebookContainer) {{\n",
              "    x.observe(notebookContainer, {childList: true});\n",
              "}}\n",
              "\n",
              "// Listen for the clearing of the current output cell\n",
              "var outputEl = gd.closest('.output');\n",
              "if (outputEl) {{\n",
              "    x.observe(outputEl, {childList: true});\n",
              "}}\n",
              "\n",
              "                        })                };                            </script>        </div>\n",
              "</body>\n",
              "</html>"
            ]
          },
          "metadata": {},
          "output_type": "display_data"
        }
      ],
      "source": [
        "fig_income = px.box(df, x='Loan_Approved',\n",
        "                    y='Income',\n",
        "                    color=\"Loan_Approved\",\n",
        "                    title='Loan_Status vs ApplicantIncome')\n",
        "fig_income.show()"
      ]
    },
    {
      "cell_type": "markdown",
      "metadata": {
        "id": "RgsL8Gzdk-LN"
      },
      "source": [
        "Detecting outliers and removing them\n",
        "\n",
        "since thes datasets are generated using ground rules and randomisation thee chances of them having outliers is very low"
      ]
    },
    {
      "cell_type": "code",
      "execution_count": 17,
      "metadata": {
        "colab": {
          "base_uri": "https://localhost:8080/",
          "height": 542
        },
        "id": "1VVd6gFAle8F",
        "outputId": "5fc9d7ad-8480-416e-f267-5d357027bae3"
      },
      "outputs": [
        {
          "data": {
            "text/html": [
              "<html>\n",
              "<head><meta charset=\"utf-8\" /></head>\n",
              "<body>\n",
              "    <div>            <script src=\"https://cdnjs.cloudflare.com/ajax/libs/mathjax/2.7.5/MathJax.js?config=TeX-AMS-MML_SVG\"></script><script type=\"text/javascript\">if (window.MathJax && window.MathJax.Hub && window.MathJax.Hub.Config) {window.MathJax.Hub.Config({SVG: {font: \"STIX-Web\"}});}</script>                <script type=\"text/javascript\">window.PlotlyConfig = {MathJaxConfig: 'local'};</script>\n",
              "        <script charset=\"utf-8\" src=\"https://cdn.plot.ly/plotly-2.35.2.min.js\"></script>                <div id=\"e82e1a99-94f1-4db8-811b-ad25908d6b36\" class=\"plotly-graph-div\" style=\"height:525px; width:100%;\"></div>            <script type=\"text/javascript\">                                    window.PLOTLYENV=window.PLOTLYENV || {};                                    if (document.getElementById(\"e82e1a99-94f1-4db8-811b-ad25908d6b36\")) {                    Plotly.newPlot(                        \"e82e1a99-94f1-4db8-811b-ad25908d6b36\",                        [{\"alignmentgroup\":\"True\",\"bingroup\":\"x\",\"hovertemplate\":\"Loan_Approved=No\\u003cbr\\u003eCredit_Score=%{x}\\u003cbr\\u003ecount=%{y}\\u003cextra\\u003e\\u003c\\u002fextra\\u003e\",\"legendgroup\":\"No\",\"marker\":{\"color\":\"#636efa\",\"pattern\":{\"shape\":\"\"}},\"name\":\"No\",\"offsetgroup\":\"No\",\"orientation\":\"v\",\"showlegend\":true,\"x\":[602,606,571,688,520,587,599,630,691,776,521,548,558,550,554,634,520,588,513,764,552,591,534,580,549,501,553,543,795,552,540,656,514,564,508,635,562,580,788,730,540,527,532,547,561,715,598,534,630,504,514,541,562,551,595,528,535,512,659,742,585,565,544,561,527,607,543,758,636,664,733,595,551,600,580,501,719,553,629,552,793,597,643,596,758,538,628,766,797,598,762,559,501,536,659,508,598,553,619,574,598,567,694,627,532,521,537,550,782,526,785,596,503,534,691,548,516,545,505,598,536,594,598,615,755,517,553,557],\"xaxis\":\"x\",\"yaxis\":\"y\",\"type\":\"histogram\"},{\"alignmentgroup\":\"True\",\"bingroup\":\"x\",\"hovertemplate\":\"Loan_Approved=Yes\\u003cbr\\u003eCredit_Score=%{x}\\u003cbr\\u003ecount=%{y}\\u003cextra\\u003e\\u003c\\u002fextra\\u003e\",\"legendgroup\":\"Yes\",\"marker\":{\"color\":\"#EF553B\",\"pattern\":{\"shape\":\"\"}},\"name\":\"Yes\",\"offsetgroup\":\"Yes\",\"orientation\":\"v\",\"showlegend\":true,\"x\":[770,602,621,714,651,649,757,793,660,752,735,669,687,770,689,674,743,630,666,773,741,763,705,605,759,690,717,661,701,769,770,714,751,689,712,707,736,779,716,751,687,628,638,662,760,634,700,767,792,671,713,726,600,756,717,754,782,706,678,730,740,721,730,736,642,670,686,783,669,633,783,785,627,730,689,724,782,620,615,732,697,724,671,651,659,732,679,612,767,794,612,612,686,612,629,723,724,625,671,717,659,697,746,702,683,622,754,779,697,739,700,623,686,647,751,646,647,698,627,650,751,643,611,753,639,732,646,707,630,651,660,615,612,603,753,726,611,652,693,662,707,668,660,788,776,634,675,737,657,729,763,725,776,783,646,671,719,657,732,779,680,687,690,752,660,627,780,722,673,779,613,787],\"xaxis\":\"x\",\"yaxis\":\"y\",\"type\":\"histogram\"}],                        {\"template\":{\"data\":{\"histogram2dcontour\":[{\"type\":\"histogram2dcontour\",\"colorbar\":{\"outlinewidth\":0,\"ticks\":\"\"},\"colorscale\":[[0.0,\"#0d0887\"],[0.1111111111111111,\"#46039f\"],[0.2222222222222222,\"#7201a8\"],[0.3333333333333333,\"#9c179e\"],[0.4444444444444444,\"#bd3786\"],[0.5555555555555556,\"#d8576b\"],[0.6666666666666666,\"#ed7953\"],[0.7777777777777778,\"#fb9f3a\"],[0.8888888888888888,\"#fdca26\"],[1.0,\"#f0f921\"]]}],\"choropleth\":[{\"type\":\"choropleth\",\"colorbar\":{\"outlinewidth\":0,\"ticks\":\"\"}}],\"histogram2d\":[{\"type\":\"histogram2d\",\"colorbar\":{\"outlinewidth\":0,\"ticks\":\"\"},\"colorscale\":[[0.0,\"#0d0887\"],[0.1111111111111111,\"#46039f\"],[0.2222222222222222,\"#7201a8\"],[0.3333333333333333,\"#9c179e\"],[0.4444444444444444,\"#bd3786\"],[0.5555555555555556,\"#d8576b\"],[0.6666666666666666,\"#ed7953\"],[0.7777777777777778,\"#fb9f3a\"],[0.8888888888888888,\"#fdca26\"],[1.0,\"#f0f921\"]]}],\"heatmap\":[{\"type\":\"heatmap\",\"colorbar\":{\"outlinewidth\":0,\"ticks\":\"\"},\"colorscale\":[[0.0,\"#0d0887\"],[0.1111111111111111,\"#46039f\"],[0.2222222222222222,\"#7201a8\"],[0.3333333333333333,\"#9c179e\"],[0.4444444444444444,\"#bd3786\"],[0.5555555555555556,\"#d8576b\"],[0.6666666666666666,\"#ed7953\"],[0.7777777777777778,\"#fb9f3a\"],[0.8888888888888888,\"#fdca26\"],[1.0,\"#f0f921\"]]}],\"heatmapgl\":[{\"type\":\"heatmapgl\",\"colorbar\":{\"outlinewidth\":0,\"ticks\":\"\"},\"colorscale\":[[0.0,\"#0d0887\"],[0.1111111111111111,\"#46039f\"],[0.2222222222222222,\"#7201a8\"],[0.3333333333333333,\"#9c179e\"],[0.4444444444444444,\"#bd3786\"],[0.5555555555555556,\"#d8576b\"],[0.6666666666666666,\"#ed7953\"],[0.7777777777777778,\"#fb9f3a\"],[0.8888888888888888,\"#fdca26\"],[1.0,\"#f0f921\"]]}],\"contourcarpet\":[{\"type\":\"contourcarpet\",\"colorbar\":{\"outlinewidth\":0,\"ticks\":\"\"}}],\"contour\":[{\"type\":\"contour\",\"colorbar\":{\"outlinewidth\":0,\"ticks\":\"\"},\"colorscale\":[[0.0,\"#0d0887\"],[0.1111111111111111,\"#46039f\"],[0.2222222222222222,\"#7201a8\"],[0.3333333333333333,\"#9c179e\"],[0.4444444444444444,\"#bd3786\"],[0.5555555555555556,\"#d8576b\"],[0.6666666666666666,\"#ed7953\"],[0.7777777777777778,\"#fb9f3a\"],[0.8888888888888888,\"#fdca26\"],[1.0,\"#f0f921\"]]}],\"surface\":[{\"type\":\"surface\",\"colorbar\":{\"outlinewidth\":0,\"ticks\":\"\"},\"colorscale\":[[0.0,\"#0d0887\"],[0.1111111111111111,\"#46039f\"],[0.2222222222222222,\"#7201a8\"],[0.3333333333333333,\"#9c179e\"],[0.4444444444444444,\"#bd3786\"],[0.5555555555555556,\"#d8576b\"],[0.6666666666666666,\"#ed7953\"],[0.7777777777777778,\"#fb9f3a\"],[0.8888888888888888,\"#fdca26\"],[1.0,\"#f0f921\"]]}],\"mesh3d\":[{\"type\":\"mesh3d\",\"colorbar\":{\"outlinewidth\":0,\"ticks\":\"\"}}],\"scatter\":[{\"fillpattern\":{\"fillmode\":\"overlay\",\"size\":10,\"solidity\":0.2},\"type\":\"scatter\"}],\"parcoords\":[{\"type\":\"parcoords\",\"line\":{\"colorbar\":{\"outlinewidth\":0,\"ticks\":\"\"}}}],\"scatterpolargl\":[{\"type\":\"scatterpolargl\",\"marker\":{\"colorbar\":{\"outlinewidth\":0,\"ticks\":\"\"}}}],\"bar\":[{\"error_x\":{\"color\":\"#2a3f5f\"},\"error_y\":{\"color\":\"#2a3f5f\"},\"marker\":{\"line\":{\"color\":\"#E5ECF6\",\"width\":0.5},\"pattern\":{\"fillmode\":\"overlay\",\"size\":10,\"solidity\":0.2}},\"type\":\"bar\"}],\"scattergeo\":[{\"type\":\"scattergeo\",\"marker\":{\"colorbar\":{\"outlinewidth\":0,\"ticks\":\"\"}}}],\"scatterpolar\":[{\"type\":\"scatterpolar\",\"marker\":{\"colorbar\":{\"outlinewidth\":0,\"ticks\":\"\"}}}],\"histogram\":[{\"marker\":{\"pattern\":{\"fillmode\":\"overlay\",\"size\":10,\"solidity\":0.2}},\"type\":\"histogram\"}],\"scattergl\":[{\"type\":\"scattergl\",\"marker\":{\"colorbar\":{\"outlinewidth\":0,\"ticks\":\"\"}}}],\"scatter3d\":[{\"type\":\"scatter3d\",\"line\":{\"colorbar\":{\"outlinewidth\":0,\"ticks\":\"\"}},\"marker\":{\"colorbar\":{\"outlinewidth\":0,\"ticks\":\"\"}}}],\"scattermapbox\":[{\"type\":\"scattermapbox\",\"marker\":{\"colorbar\":{\"outlinewidth\":0,\"ticks\":\"\"}}}],\"scatterternary\":[{\"type\":\"scatterternary\",\"marker\":{\"colorbar\":{\"outlinewidth\":0,\"ticks\":\"\"}}}],\"scattercarpet\":[{\"type\":\"scattercarpet\",\"marker\":{\"colorbar\":{\"outlinewidth\":0,\"ticks\":\"\"}}}],\"carpet\":[{\"aaxis\":{\"endlinecolor\":\"#2a3f5f\",\"gridcolor\":\"white\",\"linecolor\":\"white\",\"minorgridcolor\":\"white\",\"startlinecolor\":\"#2a3f5f\"},\"baxis\":{\"endlinecolor\":\"#2a3f5f\",\"gridcolor\":\"white\",\"linecolor\":\"white\",\"minorgridcolor\":\"white\",\"startlinecolor\":\"#2a3f5f\"},\"type\":\"carpet\"}],\"table\":[{\"cells\":{\"fill\":{\"color\":\"#EBF0F8\"},\"line\":{\"color\":\"white\"}},\"header\":{\"fill\":{\"color\":\"#C8D4E3\"},\"line\":{\"color\":\"white\"}},\"type\":\"table\"}],\"barpolar\":[{\"marker\":{\"line\":{\"color\":\"#E5ECF6\",\"width\":0.5},\"pattern\":{\"fillmode\":\"overlay\",\"size\":10,\"solidity\":0.2}},\"type\":\"barpolar\"}],\"pie\":[{\"automargin\":true,\"type\":\"pie\"}]},\"layout\":{\"autotypenumbers\":\"strict\",\"colorway\":[\"#636efa\",\"#EF553B\",\"#00cc96\",\"#ab63fa\",\"#FFA15A\",\"#19d3f3\",\"#FF6692\",\"#B6E880\",\"#FF97FF\",\"#FECB52\"],\"font\":{\"color\":\"#2a3f5f\"},\"hovermode\":\"closest\",\"hoverlabel\":{\"align\":\"left\"},\"paper_bgcolor\":\"white\",\"plot_bgcolor\":\"#E5ECF6\",\"polar\":{\"bgcolor\":\"#E5ECF6\",\"angularaxis\":{\"gridcolor\":\"white\",\"linecolor\":\"white\",\"ticks\":\"\"},\"radialaxis\":{\"gridcolor\":\"white\",\"linecolor\":\"white\",\"ticks\":\"\"}},\"ternary\":{\"bgcolor\":\"#E5ECF6\",\"aaxis\":{\"gridcolor\":\"white\",\"linecolor\":\"white\",\"ticks\":\"\"},\"baxis\":{\"gridcolor\":\"white\",\"linecolor\":\"white\",\"ticks\":\"\"},\"caxis\":{\"gridcolor\":\"white\",\"linecolor\":\"white\",\"ticks\":\"\"}},\"coloraxis\":{\"colorbar\":{\"outlinewidth\":0,\"ticks\":\"\"}},\"colorscale\":{\"sequential\":[[0.0,\"#0d0887\"],[0.1111111111111111,\"#46039f\"],[0.2222222222222222,\"#7201a8\"],[0.3333333333333333,\"#9c179e\"],[0.4444444444444444,\"#bd3786\"],[0.5555555555555556,\"#d8576b\"],[0.6666666666666666,\"#ed7953\"],[0.7777777777777778,\"#fb9f3a\"],[0.8888888888888888,\"#fdca26\"],[1.0,\"#f0f921\"]],\"sequentialminus\":[[0.0,\"#0d0887\"],[0.1111111111111111,\"#46039f\"],[0.2222222222222222,\"#7201a8\"],[0.3333333333333333,\"#9c179e\"],[0.4444444444444444,\"#bd3786\"],[0.5555555555555556,\"#d8576b\"],[0.6666666666666666,\"#ed7953\"],[0.7777777777777778,\"#fb9f3a\"],[0.8888888888888888,\"#fdca26\"],[1.0,\"#f0f921\"]],\"diverging\":[[0,\"#8e0152\"],[0.1,\"#c51b7d\"],[0.2,\"#de77ae\"],[0.3,\"#f1b6da\"],[0.4,\"#fde0ef\"],[0.5,\"#f7f7f7\"],[0.6,\"#e6f5d0\"],[0.7,\"#b8e186\"],[0.8,\"#7fbc41\"],[0.9,\"#4d9221\"],[1,\"#276419\"]]},\"xaxis\":{\"gridcolor\":\"white\",\"linecolor\":\"white\",\"ticks\":\"\",\"title\":{\"standoff\":15},\"zerolinecolor\":\"white\",\"automargin\":true,\"zerolinewidth\":2},\"yaxis\":{\"gridcolor\":\"white\",\"linecolor\":\"white\",\"ticks\":\"\",\"title\":{\"standoff\":15},\"zerolinecolor\":\"white\",\"automargin\":true,\"zerolinewidth\":2},\"scene\":{\"xaxis\":{\"backgroundcolor\":\"#E5ECF6\",\"gridcolor\":\"white\",\"linecolor\":\"white\",\"showbackground\":true,\"ticks\":\"\",\"zerolinecolor\":\"white\",\"gridwidth\":2},\"yaxis\":{\"backgroundcolor\":\"#E5ECF6\",\"gridcolor\":\"white\",\"linecolor\":\"white\",\"showbackground\":true,\"ticks\":\"\",\"zerolinecolor\":\"white\",\"gridwidth\":2},\"zaxis\":{\"backgroundcolor\":\"#E5ECF6\",\"gridcolor\":\"white\",\"linecolor\":\"white\",\"showbackground\":true,\"ticks\":\"\",\"zerolinecolor\":\"white\",\"gridwidth\":2}},\"shapedefaults\":{\"line\":{\"color\":\"#2a3f5f\"}},\"annotationdefaults\":{\"arrowcolor\":\"#2a3f5f\",\"arrowhead\":0,\"arrowwidth\":1},\"geo\":{\"bgcolor\":\"white\",\"landcolor\":\"#E5ECF6\",\"subunitcolor\":\"white\",\"showland\":true,\"showlakes\":true,\"lakecolor\":\"white\"},\"title\":{\"x\":0.05},\"mapbox\":{\"style\":\"light\"}}},\"xaxis\":{\"anchor\":\"y\",\"domain\":[0.0,1.0],\"title\":{\"text\":\"Credit_Score\"}},\"yaxis\":{\"anchor\":\"x\",\"domain\":[0.0,1.0],\"title\":{\"text\":\"count\"}},\"legend\":{\"title\":{\"text\":\"Loan_Approved\"},\"tracegroupgap\":0},\"title\":{\"text\":\"Loan_Status vs Credit_Score\"},\"barmode\":\"group\"},                        {\"responsive\": true}                    ).then(function(){\n",
              "                            \n",
              "var gd = document.getElementById('e82e1a99-94f1-4db8-811b-ad25908d6b36');\n",
              "var x = new MutationObserver(function (mutations, observer) {{\n",
              "        var display = window.getComputedStyle(gd).display;\n",
              "        if (!display || display === 'none') {{\n",
              "            console.log([gd, 'removed!']);\n",
              "            Plotly.purge(gd);\n",
              "            observer.disconnect();\n",
              "        }}\n",
              "}});\n",
              "\n",
              "// Listen for the removal of the full notebook cells\n",
              "var notebookContainer = gd.closest('#notebook-container');\n",
              "if (notebookContainer) {{\n",
              "    x.observe(notebookContainer, {childList: true});\n",
              "}}\n",
              "\n",
              "// Listen for the clearing of the current output cell\n",
              "var outputEl = gd.closest('.output');\n",
              "if (outputEl) {{\n",
              "    x.observe(outputEl, {childList: true});\n",
              "}}\n",
              "\n",
              "                        })                };                            </script>        </div>\n",
              "</body>\n",
              "</html>"
            ]
          },
          "metadata": {},
          "output_type": "display_data"
        }
      ],
      "source": [
        "#Now let’s have a look at the relationship between credit history and loan status:\n",
        "\n",
        "\n",
        "fig_credit_history = px.histogram(df, x='Credit_Score', color='Loan_Approved',\n",
        "\n",
        "                                  barmode='group',\n",
        "\n",
        "                                  title='Loan_Status vs Credit_Score')\n",
        "\n",
        "fig_credit_history.show()"
      ]
    },
    {
      "cell_type": "markdown",
      "metadata": {
        "id": "NjaHXWNTl0_8"
      },
      "source": [
        "DATA PREPARATION"
      ]
    },
    {
      "cell_type": "code",
      "execution_count": 18,
      "metadata": {
        "colab": {
          "base_uri": "https://localhost:8080/"
        },
        "id": "f5jUx373ts8G",
        "outputId": "6a2ec889-bb45-4969-8eca-5183cb2e49d3"
      },
      "outputs": [
        {
          "name": "stdout",
          "output_type": "stream",
          "text": [
            "     Credit_Score  Income  DTI_Ratio  Loan_Amount  Employment_Years  \\\n",
            "0             602   34014      49.23        29762                11   \n",
            "1             770   41093      34.46        16046                 5   \n",
            "2             606   48070      26.29        22717                 5   \n",
            "3             571   65777      16.52        25534                12   \n",
            "4             688   86958      47.36        28150                 5   \n",
            "..            ...     ...        ...          ...               ...   \n",
            "295           557   53960      39.99        26534                 2   \n",
            "296           673   63591      32.29        19870                 5   \n",
            "297           779  112848      41.41        17713                 1   \n",
            "298           613   97641      18.60        12561                 3   \n",
            "299           787   66395      33.78         7719                12   \n",
            "\n",
            "     Loan_Term_Years  Down_Payment  Citizenship  Loan_Approved  \\\n",
            "0                  3          9074            1              0   \n",
            "1                  2          6406            1              1   \n",
            "2                  8          8591            1              0   \n",
            "3                  6          6907            0              0   \n",
            "4                  2          8800            0              0   \n",
            "..               ...           ...          ...            ...   \n",
            "295                6          6397            1              0   \n",
            "296                2          2757            1              1   \n",
            "297                5          3920            1              1   \n",
            "298                7          8186            1              1   \n",
            "299                7          1900            1              1   \n",
            "\n",
            "     Collateral_House  Collateral_None  Loan_Purpose_Car  \\\n",
            "0                 0.0              1.0               0.0   \n",
            "1                 1.0              0.0               0.0   \n",
            "2                 0.0              1.0               0.0   \n",
            "3                 1.0              0.0               0.0   \n",
            "4                 1.0              0.0               0.0   \n",
            "..                ...              ...               ...   \n",
            "295               1.0              0.0               1.0   \n",
            "296               1.0              0.0               1.0   \n",
            "297               0.0              1.0               0.0   \n",
            "298               0.0              1.0               0.0   \n",
            "299               1.0              0.0               1.0   \n",
            "\n",
            "     Loan_Purpose_Home Improvement  Loan_Purpose_Medical  \\\n",
            "0                              0.0                   1.0   \n",
            "1                              0.0                   0.0   \n",
            "2                              1.0                   0.0   \n",
            "3                              0.0                   0.0   \n",
            "4                              1.0                   0.0   \n",
            "..                             ...                   ...   \n",
            "295                            0.0                   0.0   \n",
            "296                            0.0                   0.0   \n",
            "297                            0.0                   0.0   \n",
            "298                            0.0                   0.0   \n",
            "299                            0.0                   0.0   \n",
            "\n",
            "     Loan_Purpose_Vacation  Existing_Liabilities_Mortgage  \\\n",
            "0                      0.0                            0.0   \n",
            "1                      1.0                            0.0   \n",
            "2                      0.0                            0.0   \n",
            "3                      0.0                            1.0   \n",
            "4                      0.0                            0.0   \n",
            "..                     ...                            ...   \n",
            "295                    0.0                            0.0   \n",
            "296                    0.0                            0.0   \n",
            "297                    0.0                            0.0   \n",
            "298                    0.0                            0.0   \n",
            "299                    0.0                            0.0   \n",
            "\n",
            "     Existing_Liabilities_None  Existing_Liabilities_Personal Loan  \n",
            "0                          0.0                                 1.0  \n",
            "1                          0.0                                 0.0  \n",
            "2                          0.0                                 1.0  \n",
            "3                          0.0                                 0.0  \n",
            "4                          0.0                                 1.0  \n",
            "..                         ...                                 ...  \n",
            "295                        1.0                                 0.0  \n",
            "296                        0.0                                 0.0  \n",
            "297                        0.0                                 1.0  \n",
            "298                        0.0                                 0.0  \n",
            "299                        0.0                                 1.0  \n",
            "\n",
            "[300 rows x 18 columns]\n"
          ]
        }
      ],
      "source": [
        "import pandas as pd\n",
        "from sklearn.preprocessing import OneHotEncoder, LabelEncoder\n",
        "\n",
        "\n",
        "\n",
        "# Instantiate the OneHotEncoder\n",
        "ohe = OneHotEncoder(sparse_output=False, drop='first')\n",
        "\n",
        "# Fit and transform the categorical columns at once\n",
        "categorical_columns = ['Collateral', 'Loan_Purpose', 'Existing_Liabilities']\n",
        "encoded_columns = ohe.fit_transform(df[categorical_columns])\n",
        "\n",
        "# Create a DataFrame from the encoded arrays\n",
        "encoded_df = pd.DataFrame(encoded_columns, columns=ohe.get_feature_names_out(categorical_columns))\n",
        "\n",
        "# Concatenate the original DataFrame with the new encoded DataFrame\n",
        "df_encoded = pd.concat([df.drop(categorical_columns, axis=1), encoded_df], axis=1)\n",
        "\n",
        "# Instantiate and apply LabelEncoder for binary features\n",
        "label_encoder_citizenship = LabelEncoder()\n",
        "df_encoded['Citizenship'] = label_encoder_citizenship.fit_transform(df_encoded['Citizenship'])\n",
        "\n",
        "label_encoder_loan_approved = LabelEncoder()\n",
        "df_encoded['Loan_Approved'] = label_encoder_loan_approved.fit_transform(df_encoded['Loan_Approved'])\n",
        "\n",
        "# Display the final encoded DataFrame\n",
        "print(df_encoded)\n"
      ]
    },
    {
      "cell_type": "code",
      "execution_count": 19,
      "metadata": {
        "colab": {
          "base_uri": "https://localhost:8080/"
        },
        "id": "OIByV35ytvRT",
        "outputId": "42b2c770-dc80-4856-b79b-8cc07be8ca07"
      },
      "outputs": [
        {
          "name": "stdout",
          "output_type": "stream",
          "text": [
            "     Credit_Score    Income  DTI_Ratio  Loan_Amount  Employment_Years  \\\n",
            "0       -0.631129 -1.580523   1.671788     1.614988          0.886582   \n",
            "1        1.380691 -1.317236   0.181936    -0.234681         -0.602082   \n",
            "2       -0.583228 -1.057742  -0.642173     0.664936         -0.602082   \n",
            "3       -1.002357 -0.399172  -1.627674     1.044822          1.134692   \n",
            "4        0.398731  0.388607   1.483161     1.397602         -0.602082   \n",
            "..            ...       ...        ...          ...               ...   \n",
            "295     -1.170009 -0.838678   0.739748     1.179677         -1.346413   \n",
            "296      0.219105 -0.480475  -0.036952     0.281004         -0.602082   \n",
            "297      1.488467  1.351526   0.882984    -0.009878         -1.594524   \n",
            "298     -0.499402  0.785936  -1.417864    -0.704650         -1.098303   \n",
            "299      1.584268 -0.376186   0.113344    -1.357617          1.134692   \n",
            "\n",
            "     Loan_Term_Years  Down_Payment  Citizenship  Loan_Approved  \\\n",
            "0          -1.091971      1.330854            1              0   \n",
            "1          -1.540112      0.424036            1              1   \n",
            "2           1.148735      1.166688            1              0   \n",
            "3           0.252453      0.594319            0              0   \n",
            "4          -1.540112      1.237725            0              0   \n",
            "..               ...           ...          ...            ...   \n",
            "295         0.252453      0.420977            1              0   \n",
            "296        -1.540112     -0.816211            1              1   \n",
            "297        -0.195688     -0.420923            1              1   \n",
            "298         0.700594      1.029034            1              1   \n",
            "299         0.700594     -1.107494            1              1   \n",
            "\n",
            "     Collateral_House  Collateral_None  Loan_Purpose_Car  \\\n",
            "0                 0.0              1.0               0.0   \n",
            "1                 1.0              0.0               0.0   \n",
            "2                 0.0              1.0               0.0   \n",
            "3                 1.0              0.0               0.0   \n",
            "4                 1.0              0.0               0.0   \n",
            "..                ...              ...               ...   \n",
            "295               1.0              0.0               1.0   \n",
            "296               1.0              0.0               1.0   \n",
            "297               0.0              1.0               0.0   \n",
            "298               0.0              1.0               0.0   \n",
            "299               1.0              0.0               1.0   \n",
            "\n",
            "     Loan_Purpose_Home Improvement  Loan_Purpose_Medical  \\\n",
            "0                              0.0                   1.0   \n",
            "1                              0.0                   0.0   \n",
            "2                              1.0                   0.0   \n",
            "3                              0.0                   0.0   \n",
            "4                              1.0                   0.0   \n",
            "..                             ...                   ...   \n",
            "295                            0.0                   0.0   \n",
            "296                            0.0                   0.0   \n",
            "297                            0.0                   0.0   \n",
            "298                            0.0                   0.0   \n",
            "299                            0.0                   0.0   \n",
            "\n",
            "     Loan_Purpose_Vacation  Existing_Liabilities_Mortgage  \\\n",
            "0                      0.0                            0.0   \n",
            "1                      1.0                            0.0   \n",
            "2                      0.0                            0.0   \n",
            "3                      0.0                            1.0   \n",
            "4                      0.0                            0.0   \n",
            "..                     ...                            ...   \n",
            "295                    0.0                            0.0   \n",
            "296                    0.0                            0.0   \n",
            "297                    0.0                            0.0   \n",
            "298                    0.0                            0.0   \n",
            "299                    0.0                            0.0   \n",
            "\n",
            "     Existing_Liabilities_None  Existing_Liabilities_Personal Loan  \n",
            "0                          0.0                                 1.0  \n",
            "1                          0.0                                 0.0  \n",
            "2                          0.0                                 1.0  \n",
            "3                          0.0                                 0.0  \n",
            "4                          0.0                                 1.0  \n",
            "..                         ...                                 ...  \n",
            "295                        1.0                                 0.0  \n",
            "296                        0.0                                 0.0  \n",
            "297                        0.0                                 1.0  \n",
            "298                        0.0                                 0.0  \n",
            "299                        0.0                                 1.0  \n",
            "\n",
            "[300 rows x 18 columns]\n"
          ]
        }
      ],
      "source": [
        "from sklearn.preprocessing import StandardScaler\n",
        "\n",
        "numerical_columns = ['Credit_Score', 'Income', 'DTI_Ratio', 'Loan_Amount',\n",
        "                     'Employment_Years', 'Loan_Term_Years', 'Down_Payment']\n",
        "\n",
        "# Standardize\n",
        "scaler = StandardScaler()\n",
        "df_encoded[numerical_columns] = scaler.fit_transform(df_encoded[numerical_columns])\n",
        "\n",
        "\n",
        "# Display the updated DataFrame\n",
        "print(df_encoded)\n"
      ]
    },
    {
      "cell_type": "code",
      "execution_count": 20,
      "metadata": {
        "id": "Y7V3-LY_wDsb"
      },
      "outputs": [],
      "source": [
        "# Split the dataset into features (X) and target (y)\n",
        "X = df_encoded.drop('Loan_Approved', axis=1)\n",
        "y = df_encoded['Loan_Approved']\n",
        "\n",
        "# Split the data into training and testing sets\n",
        "X_train, X_test, y_train, y_test = train_test_split(X, y, test_size=0.3, random_state=42)\n"
      ]
    },
    {
      "cell_type": "code",
      "execution_count": 21,
      "metadata": {
        "colab": {
          "base_uri": "https://localhost:8080/"
        },
        "id": "5koBjjAJwPUE",
        "outputId": "10546b1b-2f51-4caa-b5a9-4dc4eb7e25cd"
      },
      "outputs": [
        {
          "name": "stdout",
          "output_type": "stream",
          "text": [
            "\n",
            "Logistic Regression:\n",
            "Accuracy: 0.7555555555555555\n",
            "Classification Report:\n",
            "               precision    recall  f1-score   support\n",
            "\n",
            "           0       0.72      0.76      0.74        41\n",
            "           1       0.79      0.76      0.77        49\n",
            "\n",
            "    accuracy                           0.76        90\n",
            "   macro avg       0.75      0.76      0.75        90\n",
            "weighted avg       0.76      0.76      0.76        90\n",
            "\n",
            "Confusion Matrix:\n",
            " [[31 10]\n",
            " [12 37]]\n",
            "\n",
            "\n"
          ]
        }
      ],
      "source": [
        "log_model = LogisticRegression()\n",
        "log_model.fit(X_train, y_train)\n",
        "y_pred_log = log_model.predict(X_test)\n",
        "accuracy_log = accuracy_score(y_test, y_pred_log)\n",
        "classification_report_log = classification_report(y_test, y_pred_log)\n",
        "confusion_matrix_log = confusion_matrix(y_test, y_pred_log)\n",
        "print(\"\\nLogistic Regression:\")\n",
        "print(\"Accuracy:\", accuracy_log)\n",
        "print(\"Classification Report:\\n\", classification_report_log)\n",
        "print(\"Confusion Matrix:\\n\", confusion_matrix_log)\n",
        "print(\"\\n\")"
      ]
    },
    {
      "cell_type": "markdown",
      "metadata": {
        "id": "4cObSj8txBa8"
      },
      "source": [
        "True Positives (TP): The number of positive instances\n",
        "correctly predicted as positive. In this case, it is 37 (bottom-right cell).\n",
        "\n",
        "True Negatives (TN): The number of negative instances correctly predicted as negative. Here, it is 31 (top-left cell).\n",
        "\n",
        "False Positives (FP): The number of negative instances incorrectly predicted as positive. This is 10 (top-right cell).\n",
        "\n",
        "False Negatives (FN): The number of positive instances incorrectly predicted as negative. This is 12 (bottom-left cell)."
      ]
    },
    {
      "cell_type": "code",
      "execution_count": 22,
      "metadata": {
        "colab": {
          "base_uri": "https://localhost:8080/"
        },
        "id": "b6dsxBOuxTUt",
        "outputId": "9a7b9c31-b30e-4b3f-ddbe-7b09d9a985f5"
      },
      "outputs": [
        {
          "name": "stdout",
          "output_type": "stream",
          "text": [
            "\n",
            "Random Forest Classifier:\n",
            "Accuracy: 0.9555555555555556\n",
            "Classification Report:\n",
            "               precision    recall  f1-score   support\n",
            "\n",
            "           0       0.97      0.93      0.95        41\n",
            "           1       0.94      0.98      0.96        49\n",
            "\n",
            "    accuracy                           0.96        90\n",
            "   macro avg       0.96      0.95      0.95        90\n",
            "weighted avg       0.96      0.96      0.96        90\n",
            "\n",
            "Confusion Matrix:\n",
            " [[38  3]\n",
            " [ 1 48]]\n",
            "\n",
            "\n"
          ]
        }
      ],
      "source": [
        "rf_model = RandomForestClassifier(random_state=42)\n",
        "rf_model.fit(X_train, y_train)\n",
        "y_pred_rf = rf_model.predict(X_test)\n",
        "accuracy_rf = accuracy_score(y_test, y_pred_rf)\n",
        "classification_report_rf = classification_report(y_test, y_pred_rf)\n",
        "confusion_matrix_rf = confusion_matrix(y_test, y_pred_rf)\n",
        "print(\"\\nRandom Forest Classifier:\")\n",
        "print(\"Accuracy:\", accuracy_rf)\n",
        "print(\"Classification Report:\\n\", classification_report_rf)\n",
        "print(\"Confusion Matrix:\\n\", confusion_matrix_rf)\n",
        "print(\"\\n\")"
      ]
    },
    {
      "cell_type": "code",
      "execution_count": 23,
      "metadata": {
        "colab": {
          "base_uri": "https://localhost:8080/"
        },
        "id": "1aZCTCnwwgYJ",
        "outputId": "7c8cd09b-6d90-4c25-a2c5-fca8e8ff994d"
      },
      "outputs": [
        {
          "name": "stdout",
          "output_type": "stream",
          "text": [
            "\n",
            "SVC:\n",
            "Accuracy:  0.8666666666666667\n",
            "\n",
            "Classification Report:                precision    recall  f1-score   support\n",
            "\n",
            "           0       0.87      0.83      0.85        41\n",
            "           1       0.86      0.90      0.88        49\n",
            "\n",
            "    accuracy                           0.87        90\n",
            "   macro avg       0.87      0.86      0.86        90\n",
            "weighted avg       0.87      0.87      0.87        90\n",
            "\n",
            "\n",
            "Confusion Matrix: \n",
            " [[34  7]\n",
            " [ 5 44]]\n"
          ]
        }
      ],
      "source": [
        "svc_model = SVC(random_state=42)\n",
        "svc_model.fit(X_train, y_train)\n",
        "y_pred_svc = svc_model.predict(X_test)\n",
        "accuracy_svc = accuracy_score(y_test, y_pred_svc)\n",
        "classification_report_svc = classification_report(y_test, y_pred_svc)\n",
        "confusion_matrix_svc = confusion_matrix(y_test, y_pred_svc)\n",
        "print(\"\\nSVC:\")\n",
        "print(\"Accuracy: \", accuracy_svc)\n",
        "print(\"\\nClassification Report: \", classification_report_svc)\n",
        "print(\"\\nConfusion Matrix: \\n\", confusion_matrix_svc)"
      ]
    },
    {
      "cell_type": "code",
      "execution_count": 24,
      "metadata": {
        "colab": {
          "base_uri": "https://localhost:8080/"
        },
        "id": "VZ8QT1V7xfE3",
        "outputId": "7190f454-77bc-4fd8-90ed-35b4f35fb3ad"
      },
      "outputs": [
        {
          "name": "stdout",
          "output_type": "stream",
          "text": [
            "\n",
            "XGBoost Classifier:\n",
            "Accuracy: 0.9444444444444444\n",
            "Classification Report:\n",
            "               precision    recall  f1-score   support\n",
            "\n",
            "           0       0.95      0.93      0.94        41\n",
            "           1       0.94      0.96      0.95        49\n",
            "\n",
            "    accuracy                           0.94        90\n",
            "   macro avg       0.94      0.94      0.94        90\n",
            "weighted avg       0.94      0.94      0.94        90\n",
            "\n",
            "Confusion Matrix:\n",
            " [[38  3]\n",
            " [ 2 47]]\n"
          ]
        }
      ],
      "source": [
        "xgb_model = XGBClassifier(random_state=42)\n",
        "xgb_model.fit(X_train, y_train)\n",
        "y_pred_xgb = xgb_model.predict(X_test)\n",
        "accuracy_xgb = accuracy_score(y_test, y_pred_xgb)\n",
        "classification_rep_xgb = classification_report(y_test, y_pred_xgb)\n",
        "confusion_mat_xgb = confusion_matrix(y_test, y_pred_xgb)\n",
        "print(\"\\nXGBoost Classifier:\")\n",
        "print(\"Accuracy:\", accuracy_xgb)\n",
        "print(\"Classification Report:\\n\", classification_rep_xgb)\n",
        "print(\"Confusion Matrix:\\n\", confusion_mat_xgb)\n"
      ]
    },
    {
      "cell_type": "code",
      "execution_count": 25,
      "metadata": {
        "colab": {
          "base_uri": "https://localhost:8080/"
        },
        "id": "ssXdJt_g5W6q",
        "outputId": "b598be0a-7c01-42c7-fb20-47fbf67bfab0"
      },
      "outputs": [
        {
          "name": "stdout",
          "output_type": "stream",
          "text": [
            "\n",
            "Client Predictions vs Actual Values:\n",
            "      Credit_Score    Income  DTI_Ratio  Loan_Amount  Employment_Years  \\\n",
            "203     -0.331751 -1.105758  -1.716440     0.596295          0.886582   \n",
            "266     -0.104223 -1.680571   0.629800    -1.401175          0.638471   \n",
            "152      0.937612 -1.160580   1.481143    -1.136185          0.390361   \n",
            "9       -0.810755 -0.697680  -1.193933     1.214469          0.142250   \n",
            "233     -0.619153 -1.382137   0.155710    -0.123156          0.886582   \n",
            "..            ...       ...        ...          ...               ...   \n",
            "114     -1.241859  1.230910   0.265658     0.083981          1.382803   \n",
            "118      0.973537 -0.863634   0.283815     1.446150          0.390361   \n",
            "72       0.015528  0.203834   1.319751     1.376430          1.382803   \n",
            "15       1.656119  0.166752   0.821453     0.413162         -0.850192   \n",
            "10      -0.667054  1.173782  -1.015392    -0.683882          1.134692   \n",
            "\n",
            "     Loan_Term_Years  Down_Payment  Citizenship  Collateral_House  \\\n",
            "203         1.148735     -1.601009            1               1.0   \n",
            "266         0.700594     -1.458597            1               0.0   \n",
            "152        -1.091971     -1.520456            0               0.0   \n",
            "9          -0.643830     -1.276418            1               0.0   \n",
            "233         0.700594     -1.012665            1               0.0   \n",
            "..               ...           ...          ...               ...   \n",
            "114         1.596877      0.459724            1               0.0   \n",
            "118        -0.195688      1.153093            1               1.0   \n",
            "72          0.252453      1.411747            1               1.0   \n",
            "15         -1.540112     -0.630973            1               0.0   \n",
            "10         -0.195688      1.309441            1               0.0   \n",
            "\n",
            "     Collateral_None  Loan_Purpose_Car  Loan_Purpose_Home Improvement  \\\n",
            "203              0.0               0.0                            0.0   \n",
            "266              0.0               1.0                            0.0   \n",
            "152              0.0               1.0                            0.0   \n",
            "9                1.0               0.0                            0.0   \n",
            "233              0.0               0.0                            0.0   \n",
            "..               ...               ...                            ...   \n",
            "114              1.0               1.0                            0.0   \n",
            "118              0.0               0.0                            0.0   \n",
            "72               0.0               0.0                            0.0   \n",
            "15               1.0               0.0                            0.0   \n",
            "10               1.0               0.0                            0.0   \n",
            "\n",
            "     Loan_Purpose_Medical  Loan_Purpose_Vacation  \\\n",
            "203                   1.0                    0.0   \n",
            "266                   0.0                    0.0   \n",
            "152                   0.0                    0.0   \n",
            "9                     0.0                    1.0   \n",
            "233                   1.0                    0.0   \n",
            "..                    ...                    ...   \n",
            "114                   0.0                    0.0   \n",
            "118                   0.0                    0.0   \n",
            "72                    1.0                    0.0   \n",
            "15                    0.0                    0.0   \n",
            "10                    1.0                    0.0   \n",
            "\n",
            "     Existing_Liabilities_Mortgage  Existing_Liabilities_None  \\\n",
            "203                            0.0                        0.0   \n",
            "266                            0.0                        0.0   \n",
            "152                            1.0                        0.0   \n",
            "9                              0.0                        0.0   \n",
            "233                            0.0                        0.0   \n",
            "..                             ...                        ...   \n",
            "114                            0.0                        0.0   \n",
            "118                            0.0                        0.0   \n",
            "72                             0.0                        0.0   \n",
            "15                             1.0                        0.0   \n",
            "10                             0.0                        1.0   \n",
            "\n",
            "     Existing_Liabilities_Personal Loan  Actual  Predicted  \n",
            "203                                 1.0       1          1  \n",
            "266                                 1.0       1          1  \n",
            "152                                 0.0       0          0  \n",
            "9                                   0.0       0          0  \n",
            "233                                 1.0       1          1  \n",
            "..                                  ...     ...        ...  \n",
            "114                                 0.0       0          0  \n",
            "118                                 0.0       1          1  \n",
            "72                                  1.0       0          0  \n",
            "15                                  0.0       1          1  \n",
            "10                                  0.0       0          0  \n",
            "\n",
            "[90 rows x 19 columns]\n"
          ]
        }
      ],
      "source": [
        "# Create a DataFrame to show the original data, actual and predicted values\n",
        "results_df = X_test.copy()  # Start with the test features\n",
        "results_df['Actual'] = y_test.values  # Add the actual values\n",
        "results_df['Predicted'] = y_pred_xgb  # Add the predicted values\n",
        "\n",
        "# # Optionally, convert the numeric predictions back to categorical for easier interpretation\n",
        "# results_df['Actual'] = results_df['Actual'].map({1: 'Yes', 0: 'No'})\n",
        "# results_df['Predicted'] = results_df['Predicted'].map({1: 'Yes', 0: 'No'})\n",
        "\n",
        "# Display the results\n",
        "print(\"\\nClient Predictions vs Actual Values:\\n\", results_df)"
      ]
    },
    {
      "cell_type": "code",
      "execution_count": 26,
      "metadata": {
        "colab": {
          "base_uri": "https://localhost:8080/"
        },
        "id": "550zU48F68En",
        "outputId": "5b80bb20-55f9-4aeb-87f7-67e80fe23b01"
      },
      "outputs": [
        {
          "name": "stdout",
          "output_type": "stream",
          "text": [
            "\n",
            "Original DataFrame with Predictions:\n",
            "     Credit_Score  Income  DTI_Ratio Collateral  Loan_Amount      Loan_Purpose  \\\n",
            "5            520  112074      47.17      House         7711          Vacation   \n",
            "6            602   40729      23.85       None         9853          Vacation   \n",
            "7            621   75017      39.34      House        27596          Business   \n",
            "9            587   57751      20.82       None        26792          Vacation   \n",
            "10           599  108069      22.59       None        12715           Medical   \n",
            "15           793   80993      40.80       None        20850          Business   \n",
            "17           776   40647      48.55       None        28485           Medical   \n",
            "19           521  118891      28.81        Car        17652  Home Improvement   \n",
            "22           548  100316      20.94       None        19536          Business   \n",
            "24           669  107575      28.59        Car        12617          Vacation   \n",
            "\n",
            "    Employment_Years  Loan_Term_Years  Down_Payment Existing_Liabilities  \\\n",
            "5                  1                7          1638             Mortgage   \n",
            "6                  1                9          5671             Mortgage   \n",
            "7                  8                6          6928        Personal Loan   \n",
            "9                  8                4          1403          Credit Card   \n",
            "10                12                5          9011                 None   \n",
            "15                 4                2          3302             Mortgage   \n",
            "17                14                6          9700          Credit Card   \n",
            "19                 9                2          5693             Mortgage   \n",
            "22                10                3          1549             Mortgage   \n",
            "24                 1                4          6140        Personal Loan   \n",
            "\n",
            "   Citizenship Loan_Approved Actual Predicted  \n",
            "5          Yes            No     No        No  \n",
            "6          Yes           Yes    Yes        No  \n",
            "7          Yes           Yes    Yes       Yes  \n",
            "9          Yes            No     No        No  \n",
            "10         Yes            No     No        No  \n",
            "15         Yes           Yes    Yes       Yes  \n",
            "17         Yes            No     No        No  \n",
            "19          No            No     No        No  \n",
            "22         Yes            No     No        No  \n",
            "24         Yes           Yes    Yes       Yes  \n"
          ]
        }
      ],
      "source": [
        "# Create a DataFrame to show the original data alongside predictions\n",
        "# Store the original DataFrame for later use\n",
        "original_df = df.copy()\n",
        "# Find the indices of the test set in the original DataFrame\n",
        "test_indices = X_test.index\n",
        "\n",
        "# Add actual and predicted values to the original DataFrame\n",
        "original_df['Actual'] = np.nan  # Initialize column for actual values\n",
        "original_df['Predicted'] = np.nan  # Initialize column for predicted values\n",
        "\n",
        "# Assign actual and predicted values to the corresponding rows\n",
        "original_df.loc[test_indices, 'Actual'] = y_test.values  # Add actual values\n",
        "original_df.loc[test_indices, 'Predicted'] = y_pred_xgb  # Add predicted values\n",
        "\n",
        "# Convert numeric predictions back to categorical for better readability\n",
        "original_df['Actual'] = original_df['Actual'].map({1: 'Yes', 0: 'No'})\n",
        "original_df['Predicted'] = original_df['Predicted'].map({1: 'Yes', 0: 'No'})\n",
        "# Filter to show only rows with actual values (non-NaN)\n",
        "filtered_df = original_df.dropna(subset=['Actual'])\n",
        "# Display the original DataFrame with predictions\n",
        "print(\"\\nOriginal DataFrame with Predictions:\\n\", filtered_df.head(10))"
      ]
    },
    {
      "cell_type": "code",
      "execution_count": 27,
      "metadata": {
        "colab": {
          "base_uri": "https://localhost:8080/"
        },
        "id": "BAkKFeI-4vSN",
        "outputId": "d5f47379-ab59-4b5f-ee3c-2158b1ed1b33"
      },
      "outputs": [
        {
          "name": "stdout",
          "output_type": "stream",
          "text": [
            "\n",
            "Predictions vs Actual Values:\n",
            "      Actual  Predicted\n",
            "203       1          1\n",
            "266       1          1\n",
            "152       0          0\n",
            "9         0          0\n",
            "233       1          1\n",
            "..      ...        ...\n",
            "114       0          0\n",
            "118       1          1\n",
            "72        0          0\n",
            "15        1          1\n",
            "10        0          0\n",
            "\n",
            "[90 rows x 2 columns]\n"
          ]
        }
      ],
      "source": [
        "predictions_df = pd.DataFrame({'Actual': y_test, 'Predicted': y_pred_xgb})\n",
        "print(\"\\nPredictions vs Actual Values:\\n\", predictions_df)"
      ]
    },
    {
      "cell_type": "markdown",
      "metadata": {
        "id": "rQ4eeYESy2Gp"
      },
      "source": [
        "UNSUPERVISED LEARNING:"
      ]
    },
    {
      "cell_type": "code",
      "execution_count": 28,
      "metadata": {
        "colab": {
          "base_uri": "https://localhost:8080/",
          "height": 718
        },
        "id": "nuemaY_Fy4gw",
        "outputId": "b9302237-1d3c-4d6f-866a-55f15fb6db00"
      },
      "outputs": [
        {
          "data": {
            "image/png": "[encoded data removed]",
            "text/plain": [
              "<Figure size 1200x800 with 2 Axes>"
            ]
          },
          "metadata": {},
          "output_type": "display_data"
        }
      ],
      "source": [
        "from sklearn.decomposition import PCA\n",
        "from sklearn.cluster import KMeans\n",
        "\n",
        "# Initialize the KMeans object and fit it to the data\n",
        "kmeans = KMeans(n_clusters=3, random_state=0)\n",
        "labels = kmeans.fit_predict(X_train)\n",
        "\n",
        "# Reduce the dimensionality of the data for visualization\n",
        "pca = PCA(n_components=2)\n",
        "X_reduced = pca.fit_transform(X_train)\n",
        "\n",
        "# Plot the reduced data with the cluster labels\n",
        "plt.figure(figsize=(12, 8))\n",
        "plt.scatter(X_reduced[:, 0], X_reduced[:, 1], c=labels, cmap='viridis', marker='o')\n",
        "plt.title('Cluster visualization of high-dimensional data')\n",
        "plt.xlabel('PCA Component 1')\n",
        "plt.ylabel('PCA Component 2')\n",
        "plt.colorbar(label='Cluster Label')\n",
        "plt.show()\n"
      ]
    },
    {
      "cell_type": "code",
      "execution_count": 29,
      "metadata": {
        "colab": {
          "base_uri": "https://localhost:8080/"
        },
        "id": "XEvHh0FB4QP2",
        "outputId": "d95fde42-125b-4eea-caa0-9624f3bd94d2"
      },
      "outputs": [
        {
          "data": {
            "text/plain": [
              "array(['Medical', 'Vacation', 'Home Improvement', 'Business', 'Car'],\n",
              "      dtype=object)"
            ]
          },
          "execution_count": 29,
          "metadata": {},
          "output_type": "execute_result"
        }
      ],
      "source": [
        "df['Loan_Purpose'].unique()"
      ]
    },
    {
      "cell_type": "code",
      "execution_count": 30,
      "metadata": {
        "colab": {
          "base_uri": "https://localhost:8080/"
        },
        "id": "gxlRQLZHJwBG",
        "outputId": "31c3c209-1623-479e-a727-ff96df13ea6a"
      },
      "outputs": [
        {
          "data": {
            "text/plain": [
              "['model_pipeline.pkl']"
            ]
          },
          "execution_count": 30,
          "metadata": {},
          "output_type": "execute_result"
        }
      ],
      "source": [
        "from sklearn.pipeline import Pipeline\n",
        "from sklearn.preprocessing import StandardScaler, OneHotEncoder\n",
        "from sklearn.compose import ColumnTransformer\n",
        "import joblib\n",
        "\n",
        "# Split the dataset into features (X) and target (y)\n",
        "X1 = df.drop('Loan_Approved', axis=1)\n",
        "y1 = df['Loan_Approved']\n",
        "\n",
        "# Initialize LabelEncoder\n",
        "label_encoder = LabelEncoder()\n",
        "\n",
        "# Fit and transform the target variable\n",
        "y1_encoded = label_encoder.fit_transform(y1)\n",
        "\n",
        "\n",
        "xgb_model1 = XGBClassifier(random_state=42)\n",
        "# Example preprocessing pipeline\n",
        "numeric_features = ['Credit_Score', 'Income', 'DTI_Ratio', 'Loan_Amount', 'Employment_Years', 'Loan_Term_Years', 'Down_Payment']\n",
        "categorical_features = ['Collateral', 'Loan_Purpose', 'Existing_Liabilities', 'Citizenship']\n",
        "\n",
        "\n",
        "preprocessor = ColumnTransformer(\n",
        "    transformers=[\n",
        "        ('num', StandardScaler(), numeric_features),\n",
        "        ('cat', OneHotEncoder(handle_unknown='ignore'), categorical_features)\n",
        "    ]\n",
        ")\n",
        "\n",
        "# Split the data into training and testing sets\n",
        "X_train1, X_test1, y_train1, y_test1 = train_test_split(X1, y1_encoded, test_size=0.3, random_state=42)\n",
        "\n",
        "# Create a pipeline including preprocessing and model\n",
        "model_pipeline = Pipeline(steps=[('preprocessor', preprocessor), ('model', xgb_model1)])\n",
        "\n",
        "# Fit the pipeline on the training data\n",
        "model_pipeline.fit(X_train1, y_train1)\n",
        "\n",
        "# Save the pipeline\n",
        "joblib.dump(model_pipeline, 'model_pipeline.pkl')\n"
      ]
    },
    {
      "cell_type": "code",
      "execution_count": 34,
      "metadata": {
        "colab": {
          "base_uri": "https://localhost:8080/"
        },
        "id": "4oi6eofsrLHZ",
        "outputId": "3d6d3d3a-f111-4fc0-c686-f205881e4c0a"
      },
      "outputs": [
        {
          "name": "stdout",
          "output_type": "stream",
          "text": [
            "drive  model_pipeline.pkl  sample_data\n"
          ]
        }
      ],
      "source": [
        "!ls"
      ]
    },
    {
      "cell_type": "code",
      "execution_count": 35,
      "metadata": {
        "colab": {
          "base_uri": "https://localhost:8080/",
          "height": 17
        },
        "id": "qxNPzzkorO2D",
        "outputId": "2fbae1fc-1749-4f3b-86d5-80c96b766d4b"
      },
      "outputs": [
        {
          "data": {
            "application/javascript": "\n    async function download(id, filename, size) {\n      if (!google.colab.kernel.accessAllowed) {\n        return;\n      }\n      const div = document.createElement('div');\n      const label = document.createElement('label');\n      label.textContent = `Downloading \"${filename}\": `;\n      div.appendChild(label);\n      const progress = document.createElement('progress');\n      progress.max = size;\n      div.appendChild(progress);\n      document.body.appendChild(div);\n\n      const buffers = [];\n      let downloaded = 0;\n\n      const channel = await google.colab.kernel.comms.open(id);\n      // Send a message to notify the kernel that we're ready.\n      channel.send({})\n\n      for await (const message of channel.messages) {\n        // Send a message to notify the kernel that we're ready.\n        channel.send({})\n        if (message.buffers) {\n          for (const buffer of message.buffers) {\n            buffers.push(buffer);\n            downloaded += buffer.byteLength;\n            progress.value = downloaded;\n          }\n        }\n      }\n      const blob = new Blob(buffers, {type: 'application/binary'});\n      const a = document.createElement('a');\n      a.href = window.URL.createObjectURL(blob);\n      a.download = filename;\n      div.appendChild(a);\n      a.click();\n      div.remove();\n    }\n  ",
            "text/plain": [
              "<IPython.core.display.Javascript object>"
            ]
          },
          "metadata": {},
          "output_type": "display_data"
        },
        {
          "data": {
            "application/javascript": "download(\"download_ad4c6cb5-2498-428e-a762-760a5edd4493\", \"model_pipeline.pkl\", 89807)",
            "text/plain": [
              "<IPython.core.display.Javascript object>"
            ]
          },
          "metadata": {},
          "output_type": "display_data"
        }
      ],
      "source": [
        "from google.colab import files\n",
        "\n",
        "# Download the model_pipeline.pkl file\n",
        "files.download('model_pipeline.pkl')\n"
      ]
    },
    {
      "cell_type": "code",
      "execution_count": 31,
      "metadata": {
        "colab": {
          "base_uri": "https://localhost:8080/"
        },
        "id": "2QgQY3MjNZEp",
        "outputId": "9f0f9f02-dbed-413b-c0bc-90c9295b16c7"
      },
      "outputs": [
        {
          "name": "stdout",
          "output_type": "stream",
          "text": [
            "Accuracy: 0.9444444444444444\n",
            "Classification Report:\n",
            "               precision    recall  f1-score   support\n",
            "\n",
            "           0       0.95      0.93      0.94        41\n",
            "           1       0.94      0.96      0.95        49\n",
            "\n",
            "    accuracy                           0.94        90\n",
            "   macro avg       0.94      0.94      0.94        90\n",
            "weighted avg       0.94      0.94      0.94        90\n",
            "\n",
            "Confusion Matrix:\n",
            " [[38  3]\n",
            " [ 2 47]]\n"
          ]
        }
      ],
      "source": [
        "\n",
        "# Predict on the test set\n",
        "y_pred = model_pipeline.predict(X_test1)\n",
        "\n",
        "# Evaluate the model (accuracy, classification report, confusion matrix, etc.)\n",
        "from sklearn.metrics import accuracy_score, classification_report, confusion_matrix\n",
        "\n",
        "accuracy = accuracy_score(y_test1, y_pred)\n",
        "classification_rep = classification_report(y_test1, y_pred)\n",
        "confusion_mat = confusion_matrix(y_test1, y_pred)\n",
        "\n",
        "print(\"Accuracy:\", accuracy)\n",
        "print(\"Classification Report:\\n\", classification_rep)\n",
        "print(\"Confusion Matrix:\\n\", confusion_mat)"
      ]
    },
    {
      "cell_type": "code",
      "execution_count": 32,
      "metadata": {
        "id": "w1cHLFHsRlH6"
      },
      "outputs": [],
      "source": [
        "data_test = {\n",
        "    'Credit_Score': [602],\n",
        "    'Income': [34014],\n",
        "    'DTI_Ratio': [49.23],\n",
        "    'Collateral': ['None'],\n",
        "    'Loan_Amount': [29762],\n",
        "    'Loan_Purpose': ['Shopping'],\n",
        "    'Employment_Years': [11],\n",
        "    'Loan_Term_Years': [3],\n",
        "    'Down_Payment': [9074],\n",
        "    'Existing_Liabilities': ['Medical debt'],\n",
        "    'Citizenship': ['Yes'],\n",
        "    'Loan_Approved': ['No']\n",
        "}"
      ]
    },
    {
      "cell_type": "code",
      "execution_count": 33,
      "metadata": {
        "colab": {
          "base_uri": "https://localhost:8080/"
        },
        "id": "cykfOt5pRpTC",
        "outputId": "d15bfa25-e9fc-4660-bfb5-6f7f4a7a8f54"
      },
      "outputs": [
        {
          "name": "stdout",
          "output_type": "stream",
          "text": [
            "   Credit_Score  Income  DTI_Ratio Collateral  Loan_Amount Loan_Purpose  \\\n",
            "0           602   34014      49.23       None        29762     Shopping   \n",
            "\n",
            "   Employment_Years  Loan_Term_Years  Down_Payment Existing_Liabilities  \\\n",
            "0                11                3          9074         Medical debt   \n",
            "\n",
            "  Citizenship Loan_Approved Predicted_Loan_Approved  \n",
            "0         Yes            No                      No  \n"
          ]
        }
      ],
      "source": [
        "# Create DataFrame for the unseen data\n",
        "unseen_df = pd.DataFrame(data_test)\n",
        "\n",
        "# Use the trained pipeline to make predictions\n",
        "predictions = model_pipeline.predict(unseen_df)\n",
        "\n",
        "# If you want to decode the predictions back to original labels\n",
        "predicted_labels = label_encoder.inverse_transform(predictions)\n",
        "\n",
        "# Print the results\n",
        "unseen_df['Predicted_Loan_Approved'] = predicted_labels\n",
        "print(unseen_df)"
      ]
    },
    {
      "cell_type": "code",
      "execution_count": 33,
      "metadata": {
        "id": "03qAX_71SrhZ"
      },
      "outputs": [],
      "source": []
    }
  ],
  "metadata": {
    "colab": {
      "provenance": []
    },
    "kernelspec": {
      "display_name": "Python 3",
      "name": "python3"
    },
    "language_info": {
      "name": "python"
    }
  },
  "nbformat": 4,
  "nbformat_minor": 0
}
